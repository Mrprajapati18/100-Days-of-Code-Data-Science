{
 "cells": [
  {
   "cell_type": "markdown",
   "id": "3e19af40",
   "metadata": {},
   "source": [
    "# Series"
   ]
  },
  {
   "cell_type": "code",
   "execution_count": 4,
   "id": "7adb8ddd",
   "metadata": {},
   "outputs": [
    {
     "name": "stdout",
     "output_type": "stream",
     "text": [
      "0     2\n",
      "1     4\n",
      "2     5\n",
      "3     6\n",
      "4     7\n",
      "5     8\n",
      "6     9\n",
      "7    20\n",
      "dtype: int64\n",
      "<class 'pandas.core.series.Series'>\n",
      "8\n"
     ]
    }
   ],
   "source": [
    "import pandas as pd\n",
    "\n",
    "x = [2,4,5,6,7,8,9,20]\n",
    "var = pd.Series(x)\n",
    "print(var)\n",
    "\n",
    "print(type(var))\n",
    "\n",
    "print(var[5]) # Find the index number"
   ]
  },
  {
   "cell_type": "code",
   "execution_count": 6,
   "id": "f7342ec7",
   "metadata": {},
   "outputs": [
    {
     "name": "stdout",
     "output_type": "stream",
     "text": [
      "a     3\n",
      "b    35\n",
      "c    56\n",
      "d     7\n",
      "e     8\n",
      "f     9\n",
      "dtype: int64\n",
      "<class 'pandas.core.series.Series'>\n"
     ]
    }
   ],
   "source": [
    "y = [3,35,56,7,8,9]\n",
    "var1 = pd.Series(y,index=['a','b','c','d','e','f']) # Change the index number\n",
    "\n",
    "print(var1)\n",
    "\n",
    "print(type(var1))"
   ]
  },
  {
   "cell_type": "code",
   "execution_count": 7,
   "id": "92c93979",
   "metadata": {},
   "outputs": [
    {
     "name": "stdout",
     "output_type": "stream",
     "text": [
      "a     3.0\n",
      "b    35.0\n",
      "c    56.0\n",
      "d     7.0\n",
      "e     8.0\n",
      "f     9.0\n",
      "dtype: float64\n",
      "<class 'pandas.core.series.Series'>\n"
     ]
    }
   ],
   "source": [
    "y1 = [3,35,56,7,8,9]\n",
    "var2 = pd.Series(y1,index=['a','b','c','d','e','f'], dtype=\"float\") # Change the datatype\n",
    "print(var2)\n",
    "\n",
    "print(type(var2))"
   ]
  },
  {
   "cell_type": "code",
   "execution_count": 9,
   "id": "c0fabfb1",
   "metadata": {},
   "outputs": [
    {
     "name": "stdout",
     "output_type": "stream",
     "text": [
      "Name          [Python, c, C++, java]\n",
      "popularity          [12, 13, 14, 15]\n",
      "rank                    [1, 2, 3, 4]\n",
      "dtype: object\n"
     ]
    }
   ],
   "source": [
    "dic = {\"Name\": [\"Python\",\"c\",\"C++\",\"java\"],\"popularity\":[12,13,14,15],\"rank\":[1,2,3,4]}\n",
    "\n",
    "var3 =  pd.Series(dic)\n",
    "\n",
    "print(var3)"
   ]
  },
  {
   "cell_type": "code",
   "execution_count": 11,
   "id": "4cc6fd47",
   "metadata": {},
   "outputs": [
    {
     "name": "stdout",
     "output_type": "stream",
     "text": [
      "1    12\n",
      "2    12\n",
      "3    12\n",
      "4    12\n",
      "5    12\n",
      "6    12\n",
      "7    12\n",
      "dtype: int64\n",
      "<class 'pandas.core.series.Series'>\n"
     ]
    }
   ],
   "source": [
    "S = pd.Series(12,index=[1,2,3,4,5,6,7]) # Same Number series\n",
    "\n",
    "print(S)\n",
    "\n",
    "print(type(S))"
   ]
  },
  {
   "cell_type": "code",
   "execution_count": 12,
   "id": "9ff79c4a",
   "metadata": {},
   "outputs": [
    {
     "name": "stdout",
     "output_type": "stream",
     "text": [
      "1     NaN\n",
      "2     NaN\n",
      "3     NaN\n",
      "4    24.0\n",
      "5    24.0\n",
      "6    24.0\n",
      "7    24.0\n",
      "dtype: float64\n"
     ]
    }
   ],
   "source": [
    "S1 = pd.Series(12,index=[1,2,3,4,5,6,7])\n",
    "S2 = pd.Series(12,index=[4,5,6,7])\n",
    "print(S1 + S2)"
   ]
  },
  {
   "cell_type": "code",
   "execution_count": null,
   "id": "d2d17d45",
   "metadata": {},
   "outputs": [],
   "source": []
  }
 ],
 "metadata": {
  "kernelspec": {
   "display_name": "Python 3 (ipykernel)",
   "language": "python",
   "name": "python3"
  },
  "language_info": {
   "codemirror_mode": {
    "name": "ipython",
    "version": 3
   },
   "file_extension": ".py",
   "mimetype": "text/x-python",
   "name": "python",
   "nbconvert_exporter": "python",
   "pygments_lexer": "ipython3",
   "version": "3.11.5"
  }
 },
 "nbformat": 4,
 "nbformat_minor": 5
}
