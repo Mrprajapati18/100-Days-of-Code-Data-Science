{
 "cells": [
  {
   "cell_type": "markdown",
   "id": "d68babd4",
   "metadata": {},
   "source": [
    "# create csv file using pandas"
   ]
  },
  {
   "cell_type": "code",
   "execution_count": 1,
   "id": "28e79524",
   "metadata": {},
   "outputs": [
    {
     "name": "stdout",
     "output_type": "stream",
     "text": [
      "    A   B\n",
      "0  12  12\n",
      "1  43  44\n",
      "2  55  55\n",
      "3  66  66\n",
      "4  89  77\n",
      "\n"
     ]
    }
   ],
   "source": [
    "import pandas as pd\n",
    "\n",
    "dic = {\"A\":[12,43,55,66,89], \"B\": [12,44,55,66,77]}\n",
    "\n",
    "d = pd.DataFrame(dic)\n",
    "print(d)\n",
    "print()\n",
    "\n",
    "d.to_csv(\"Test.csv\") # See the csv file in main Folder"
   ]
  },
  {
   "cell_type": "code",
   "execution_count": 5,
   "id": "7a692591",
   "metadata": {},
   "outputs": [
    {
     "name": "stdout",
     "output_type": "stream",
     "text": [
      "    A   B\n",
      "0  11  32\n",
      "1  34  42\n",
      "2  45  56\n",
      "3  78  77\n",
      "4  89  87\n",
      "5  90  34\n"
     ]
    }
   ],
   "source": [
    "dic1 = {\"A\": [11,34,45,78,89,90],\"B\": [32,42,56,77,87,34]}\n",
    "\n",
    "d1 = pd.DataFrame(dic1)\n",
    "\n",
    "print(d1)\n",
    "\n",
    "d1.to_csv(\"Test_new.csv\",index = False,header = [\"Python\",\"java\"])"
   ]
  },
  {
   "cell_type": "code",
   "execution_count": null,
   "id": "558ffa03",
   "metadata": {},
   "outputs": [],
   "source": []
  }
 ],
 "metadata": {
  "kernelspec": {
   "display_name": "Python 3 (ipykernel)",
   "language": "python",
   "name": "python3"
  },
  "language_info": {
   "codemirror_mode": {
    "name": "ipython",
    "version": 3
   },
   "file_extension": ".py",
   "mimetype": "text/x-python",
   "name": "python",
   "nbconvert_exporter": "python",
   "pygments_lexer": "ipython3",
   "version": "3.11.5"
  }
 },
 "nbformat": 4,
 "nbformat_minor": 5
}
