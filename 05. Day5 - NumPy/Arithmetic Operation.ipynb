{
 "cells": [
  {
   "cell_type": "markdown",
   "id": "9bd94a2a",
   "metadata": {},
   "source": [
    "# Arithmetic Operation In NumPy Array"
   ]
  },
  {
   "cell_type": "markdown",
   "id": "8e490d23",
   "metadata": {},
   "source": [
    "# a + b  np.add(a,b), a - b np.subtract(a,b), a * b np.multiply(a,b), a/b   np.divide(a,b), a % b np.mod(a,b), a**b np.power(a,b), 1/a   np.recipocal(a)"
   ]
  },
  {
   "cell_type": "code",
   "execution_count": 1,
   "id": "eb809968",
   "metadata": {},
   "outputs": [
    {
     "name": "stdout",
     "output_type": "stream",
     "text": [
      "[4 5 6 8]\n"
     ]
    }
   ],
   "source": [
    "import numpy as np\n",
    "\n",
    "var = np.array([1,2,3,5])\n",
    "varadd = var + 3\n",
    "print(varadd)"
   ]
  },
  {
   "cell_type": "code",
   "execution_count": 2,
   "id": "182894ff",
   "metadata": {},
   "outputs": [
    {
     "name": "stdout",
     "output_type": "stream",
     "text": [
      "[ 4  7  9 12]\n"
     ]
    }
   ],
   "source": [
    "import numpy as np\n",
    "\n",
    "var = np.array([1,2,3,5])\n",
    "var1 = np.array([3,5,6,7])\n",
    "varadd = var + var1\n",
    "print(varadd)"
   ]
  },
  {
   "cell_type": "code",
   "execution_count": 4,
   "id": "a050efc5",
   "metadata": {},
   "outputs": [
    {
     "name": "stdout",
     "output_type": "stream",
     "text": [
      "[2 3 3 2]\n"
     ]
    }
   ],
   "source": [
    "var = np.array([1,2,3,5])\n",
    "var1 = np.array([3,5,6,7])\n",
    "varadd = var1 - var\n",
    "print(varadd)"
   ]
  },
  {
   "cell_type": "code",
   "execution_count": 5,
   "id": "2c0fe515",
   "metadata": {},
   "outputs": [
    {
     "name": "stdout",
     "output_type": "stream",
     "text": [
      "[2 1 0 1]\n"
     ]
    }
   ],
   "source": [
    "var = np.array([2,4,6,7])\n",
    "varmod = var % 3\n",
    "print(varmod)"
   ]
  },
  {
   "cell_type": "code",
   "execution_count": 6,
   "id": "38180441",
   "metadata": {},
   "outputs": [
    {
     "name": "stdout",
     "output_type": "stream",
     "text": [
      "[0.66666667 1.33333333 2.         2.33333333]\n"
     ]
    }
   ],
   "source": [
    "var = np.array([2,4,6,7])\n",
    "varmod = var / 3\n",
    "print(varmod)"
   ]
  },
  {
   "cell_type": "code",
   "execution_count": 8,
   "id": "b4caf9b1",
   "metadata": {},
   "outputs": [
    {
     "name": "stdout",
     "output_type": "stream",
     "text": [
      "[ 8  9 10 11]\n"
     ]
    }
   ],
   "source": [
    "var2 = np.array([1,2,4,5])\n",
    "var3 = np.array([5,6,7,8])\n",
    "varadd1 = np.add(var3,3)\n",
    "print(varadd1)"
   ]
  },
  {
   "cell_type": "code",
   "execution_count": null,
   "id": "62382fd5",
   "metadata": {},
   "outputs": [],
   "source": []
  }
 ],
 "metadata": {
  "kernelspec": {
   "display_name": "Python 3 (ipykernel)",
   "language": "python",
   "name": "python3"
  },
  "language_info": {
   "codemirror_mode": {
    "name": "ipython",
    "version": 3
   },
   "file_extension": ".py",
   "mimetype": "text/x-python",
   "name": "python",
   "nbconvert_exporter": "python",
   "pygments_lexer": "ipython3",
   "version": "3.11.5"
  }
 },
 "nbformat": 4,
 "nbformat_minor": 5
}
