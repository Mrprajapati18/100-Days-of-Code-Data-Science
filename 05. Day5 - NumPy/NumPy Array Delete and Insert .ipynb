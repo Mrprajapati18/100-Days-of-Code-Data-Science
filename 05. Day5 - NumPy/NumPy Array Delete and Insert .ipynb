{
 "cells": [
  {
   "cell_type": "markdown",
   "id": "8a9690f7",
   "metadata": {},
   "source": [
    "# Insert"
   ]
  },
  {
   "cell_type": "code",
   "execution_count": 1,
   "id": "85dbd306",
   "metadata": {},
   "outputs": [
    {
     "name": "stdout",
     "output_type": "stream",
     "text": [
      "[1 2 3 5]\n",
      "\n",
      "[ 1  2  3 40  5]\n"
     ]
    }
   ],
   "source": [
    "import numpy as np\n",
    "var = np.array([1,2,3,5])\n",
    "\n",
    "print(var)\n",
    "print()\n",
    "v = np.insert(var,3,40)\n",
    "print(v)"
   ]
  },
  {
   "cell_type": "code",
   "execution_count": 2,
   "id": "b405dbd8",
   "metadata": {},
   "outputs": [
    {
     "name": "stdout",
     "output_type": "stream",
     "text": [
      "[1 3 5 6 7 8 9]\n",
      "\n",
      "[ 1 40  3  5  6 40  7  8  9]\n"
     ]
    }
   ],
   "source": [
    "var1 = np.array([1,3,5,6,7,8,9])\n",
    "print(var1)\n",
    "print()\n",
    "v1 = np.insert(var1, (1,4), 40)\n",
    "print(v1)"
   ]
  },
  {
   "cell_type": "code",
   "execution_count": 3,
   "id": "0fa6916a",
   "metadata": {},
   "outputs": [
    {
     "name": "stdout",
     "output_type": "stream",
     "text": [
      "[1 3 5 6 7 8 9]\n",
      "\n",
      "[1 2 3 5 6 2 7 8 9]\n"
     ]
    }
   ],
   "source": [
    "var1 = np.array([1,3,5,6,7,8,9])\n",
    "print(var1)\n",
    "print()\n",
    "v1 = np.insert(var1, (1,4), 2.2)\n",
    "print(v1)"
   ]
  },
  {
   "cell_type": "code",
   "execution_count": 4,
   "id": "84028a8f",
   "metadata": {},
   "outputs": [
    {
     "name": "stdout",
     "output_type": "stream",
     "text": [
      "[[1 2 3]\n",
      " [1 2 4]]\n",
      "\n",
      "[[1 2 7 3]\n",
      " [1 2 7 4]]\n"
     ]
    }
   ],
   "source": [
    "var2 = np.array([[1,2,3],[1,2,4]])\n",
    "v2 = np.insert(var2, 2, 7, axis = 1)\n",
    "\n",
    "print(var2)\n",
    "print()\n",
    "print(v2)"
   ]
  },
  {
   "cell_type": "code",
   "execution_count": 5,
   "id": "754ffd4b",
   "metadata": {},
   "outputs": [
    {
     "name": "stdout",
     "output_type": "stream",
     "text": [
      "[[1 2 3]\n",
      " [1 2 4]]\n",
      "\n",
      "[[1 2 3]\n",
      " [1 2 4]\n",
      " [7 7 7]]\n"
     ]
    }
   ],
   "source": [
    "var2 = np.array([[1,2,3],[1,2,4]])\n",
    "v2 = np.insert(var2, 2, 7, axis = 0)\n",
    "\n",
    "print(var2)\n",
    "print()\n",
    "print(v2)"
   ]
  },
  {
   "cell_type": "code",
   "execution_count": 7,
   "id": "337536b3",
   "metadata": {},
   "outputs": [
    {
     "name": "stdout",
     "output_type": "stream",
     "text": [
      "[[1 2 3]\n",
      " [1 2 4]]\n",
      "\n",
      "[[ 1  2  3]\n",
      " [ 1  2  4]\n",
      " [22 23 24]]\n"
     ]
    }
   ],
   "source": [
    "var3 = np.array([[1,2,3],[1,2,4]])\n",
    "v3 = np.insert(var3, 2, [22,23,24], axis = 0)\n",
    "\n",
    "print(var3)\n",
    "print()\n",
    "print(v3)"
   ]
  },
  {
   "cell_type": "code",
   "execution_count": 11,
   "id": "2ac4beb6",
   "metadata": {},
   "outputs": [
    {
     "name": "stdout",
     "output_type": "stream",
     "text": [
      "[1 3 5 6 7 8 9]\n",
      "\n",
      "[1.  3.  5.  6.  7.  8.  9.  6.5]\n"
     ]
    }
   ],
   "source": [
    "var4 = np.array([1,3,5,6,7,8,9])\n",
    "print(var4)\n",
    "print()\n",
    "# v1 = np.insert(var1, (1,4), 2.2)\n",
    "x = np.append(var1, 6.5) # To add the last digit using for append\n",
    "print(x)"
   ]
  },
  {
   "cell_type": "code",
   "execution_count": 17,
   "id": "064bd663",
   "metadata": {},
   "outputs": [
    {
     "name": "stdout",
     "output_type": "stream",
     "text": [
      "[[ 1  2  3  5]\n",
      " [ 6  8  9  7]\n",
      " [45 44 23  5]]\n"
     ]
    }
   ],
   "source": [
    "var5 = np.array([[1,2,3,5],[6,8,9,7]])\n",
    "# v1 = np.insert(var1, 2, [22,4,44], axis = 0)\n",
    "\n",
    "v1 = np.append(var5,[[45,44,23,5]],axis=0)\n",
    "print(v1)"
   ]
  },
  {
   "cell_type": "markdown",
   "id": "7eb219fb",
   "metadata": {},
   "source": [
    "# Delete"
   ]
  },
  {
   "cell_type": "code",
   "execution_count": null,
   "id": "f75ccc41",
   "metadata": {},
   "outputs": [],
   "source": [
    "var6 = np.array([1,3,4,5,6])\n",
    "print(var6)\n",
    "print"
   ]
  }
 ],
 "metadata": {
  "kernelspec": {
   "display_name": "Python 3 (ipykernel)",
   "language": "python",
   "name": "python3"
  },
  "language_info": {
   "codemirror_mode": {
    "name": "ipython",
    "version": 3
   },
   "file_extension": ".py",
   "mimetype": "text/x-python",
   "name": "python",
   "nbconvert_exporter": "python",
   "pygments_lexer": "ipython3",
   "version": "3.11.5"
  }
 },
 "nbformat": 4,
 "nbformat_minor": 5
}
