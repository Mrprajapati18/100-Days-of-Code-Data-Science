{
 "cells": [
  {
   "cell_type": "markdown",
   "id": "1111f7ac",
   "metadata": {},
   "source": [
    "# Matrix"
   ]
  },
  {
   "cell_type": "code",
   "execution_count": 1,
   "id": "3413aaaf",
   "metadata": {},
   "outputs": [
    {
     "name": "stdout",
     "output_type": "stream",
     "text": [
      "[[1 2 4]\n",
      " [1 2 4]]\n",
      "<class 'numpy.matrix'>\n"
     ]
    }
   ],
   "source": [
    "import numpy as np\n",
    "\n",
    "var = np.matrix([[1,2,4],[1,2,4]])\n",
    "print(var)\n",
    "print(type(var))"
   ]
  },
  {
   "cell_type": "code",
   "execution_count": 2,
   "id": "97b3821e",
   "metadata": {},
   "outputs": [
    {
     "name": "stdout",
     "output_type": "stream",
     "text": [
      "[[1 2 3]\n",
      " [1 2 3]]\n",
      "<class 'numpy.ndarray'>\n"
     ]
    }
   ],
   "source": [
    "var1 = np.array([[1,2,3],[1,2,3]])\n",
    "print(var1)\n",
    "print(type(var1))"
   ]
  },
  {
   "cell_type": "code",
   "execution_count": 11,
   "id": "ca24f059",
   "metadata": {},
   "outputs": [
    {
     "name": "stdout",
     "output_type": "stream",
     "text": [
      "[[ 7 15]\n",
      " [13 25]]\n",
      "\n",
      "[[ 7 15]\n",
      " [13 25]]\n"
     ]
    }
   ],
   "source": [
    "var2 = np.matrix([[1,2],[1,4]])\n",
    "var3 = np.matrix([[1,5],[3,5]])\n",
    "\n",
    "print(var2 * var3)\n",
    "print()\n",
    "print(var2.dot(var3))"
   ]
  },
  {
   "cell_type": "code",
   "execution_count": 9,
   "id": "e9d406f8",
   "metadata": {},
   "outputs": [
    {
     "name": "stdout",
     "output_type": "stream",
     "text": [
      "[[ 1 10]\n",
      " [ 3 20]]\n"
     ]
    }
   ],
   "source": [
    "var4 = np.array([[1,2],[1,4]])\n",
    "var5 = np.array([[1,5],[3,5]])\n",
    "\n",
    "print(var4 * var5)\n"
   ]
  },
  {
   "cell_type": "markdown",
   "id": "8f11cf04",
   "metadata": {},
   "source": [
    "# Matrix functions in NumPy Arrays"
   ]
  },
  {
   "cell_type": "markdown",
   "id": "0942c733",
   "metadata": {},
   "source": [
    "# Transpose\n",
    "# Swapaxes\n",
    "# Inverse\n",
    "# Power\n",
    "# Determinate"
   ]
  },
  {
   "cell_type": "code",
   "execution_count": 12,
   "id": "cdfae31c",
   "metadata": {},
   "outputs": [
    {
     "name": "stdout",
     "output_type": "stream",
     "text": [
      "[[1 2 3]\n",
      " [4 5 6]]\n",
      "\n",
      "[[1 4]\n",
      " [2 5]\n",
      " [3 6]]\n"
     ]
    }
   ],
   "source": [
    "mtx = np.matrix([[1,2,3],[4,5,6]])\n",
    "print(mtx)\n",
    "print()\n",
    "print(np.transpose(mtx)) # A = A^T"
   ]
  },
  {
   "cell_type": "code",
   "execution_count": 15,
   "id": "309129a1",
   "metadata": {},
   "outputs": [
    {
     "name": "stdout",
     "output_type": "stream",
     "text": [
      "[[1 3 4]\n",
      " [5 6 7]]\n",
      "\n",
      "[[1 5]\n",
      " [3 6]\n",
      " [4 7]]\n"
     ]
    }
   ],
   "source": [
    "mtx1 = np.matrix([[1,3,4],[5,6,7]])\n",
    "print(mtx1)\n",
    "print()\n",
    "print(np.swapaxes(mtx1, 0,1))"
   ]
  },
  {
   "cell_type": "code",
   "execution_count": 16,
   "id": "01668894",
   "metadata": {},
   "outputs": [
    {
     "name": "stdout",
     "output_type": "stream",
     "text": [
      "[[1 3]\n",
      " [5 6]]\n",
      "\n",
      "[[-0.5  0.5]\n",
      " [ 0.3 -0.1]]\n"
     ]
    }
   ],
   "source": [
    "mtx2 = np.matrix([[1,3],[5,6]])\n",
    "print(mtx2)\n",
    "\n",
    "print()\n",
    "print(np.linalg.inv(var3)) # A-1"
   ]
  },
  {
   "cell_type": "code",
   "execution_count": 20,
   "id": "66eee7e2",
   "metadata": {},
   "outputs": [
    {
     "name": "stdout",
     "output_type": "stream",
     "text": [
      "[[1 2]\n",
      " [3 4]]\n",
      "\n",
      "[[ 7 10]\n",
      " [15 22]]\n",
      "\n",
      "[[1 0]\n",
      " [0 1]]\n",
      "\n",
      "[[ 4.5  -2.5 ]\n",
      " [-1.25  0.75]]\n"
     ]
    }
   ],
   "source": [
    "mtx3 = np.matrix([[1,2],[3,4]])\n",
    "print(mtx3)\n",
    "print()\n",
    "\n",
    "print(np.linalg.matrix_power(mtx3,2))\n",
    "\n",
    "print()\n",
    "print(np.linalg.matrix_power(mtx3,0))\n",
    "\n",
    "print()\n",
    "print(np.linalg.matrix_power(var4,-2))"
   ]
  },
  {
   "cell_type": "code",
   "execution_count": 21,
   "id": "049095f0",
   "metadata": {},
   "outputs": [
    {
     "name": "stdout",
     "output_type": "stream",
     "text": [
      "[[1 2]\n",
      " [3 4]]\n",
      "\n",
      "-2.0000000000000004\n"
     ]
    }
   ],
   "source": [
    "mtx4 = np.matrix([[1,2],[3,4]])\n",
    "print(mtx4)\n",
    "print()\n",
    "print(np.linalg.det(mtx4)) # deteminate values"
   ]
  },
  {
   "cell_type": "code",
   "execution_count": 23,
   "id": "8d7a2b36",
   "metadata": {},
   "outputs": [
    {
     "name": "stdout",
     "output_type": "stream",
     "text": [
      "[[1 2 3]\n",
      " [3 4 5]\n",
      " [1 2 3]]\n",
      "\n",
      "0.0\n"
     ]
    }
   ],
   "source": [
    "mtx5 = np.matrix([[1,2,3],[3,4,5],[1,2,3]])\n",
    "print(mtx5)\n",
    "print()\n",
    "print(np.linalg.det(mtx5)) # two matrix same"
   ]
  },
  {
   "cell_type": "code",
   "execution_count": null,
   "id": "0ce01d27",
   "metadata": {},
   "outputs": [],
   "source": []
  }
 ],
 "metadata": {
  "kernelspec": {
   "display_name": "Python 3 (ipykernel)",
   "language": "python",
   "name": "python3"
  },
  "language_info": {
   "codemirror_mode": {
    "name": "ipython",
    "version": 3
   },
   "file_extension": ".py",
   "mimetype": "text/x-python",
   "name": "python",
   "nbconvert_exporter": "python",
   "pygments_lexer": "ipython3",
   "version": "3.11.5"
  }
 },
 "nbformat": 4,
 "nbformat_minor": 5
}
