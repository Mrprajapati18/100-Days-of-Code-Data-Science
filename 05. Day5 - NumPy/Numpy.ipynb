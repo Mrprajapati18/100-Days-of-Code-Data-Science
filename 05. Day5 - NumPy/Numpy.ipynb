{
 "cells": [
  {
   "cell_type": "code",
   "execution_count": 1,
   "id": "4744256d",
   "metadata": {},
   "outputs": [
    {
     "name": "stdout",
     "output_type": "stream",
     "text": [
      "[1 2 3 4]\n"
     ]
    }
   ],
   "source": [
    "import numpy as np\n",
    "\n",
    "x = np.array([1,2,3,4])\n",
    "print(x)"
   ]
  },
  {
   "cell_type": "code",
   "execution_count": 2,
   "id": "95345134",
   "metadata": {},
   "outputs": [
    {
     "name": "stdout",
     "output_type": "stream",
     "text": [
      "[1, 3, 5, 6]\n"
     ]
    }
   ],
   "source": [
    "y = [1,3,5,6]\n",
    "print(y)"
   ]
  },
  {
   "cell_type": "code",
   "execution_count": 3,
   "id": "c5139376",
   "metadata": {},
   "outputs": [
    {
     "name": "stdout",
     "output_type": "stream",
     "text": [
      "<class 'numpy.ndarray'>\n"
     ]
    }
   ],
   "source": [
    "print(type(x))"
   ]
  },
  {
   "cell_type": "markdown",
   "id": "635b5d8a",
   "metadata": {},
   "source": [
    "# Creating NumPy Array"
   ]
  },
  {
   "cell_type": "markdown",
   "id": "a349f75f",
   "metadata": {},
   "source": [
    "# To Create a NumPy array, you can use the function np.array()."
   ]
  },
  {
   "cell_type": "code",
   "execution_count": 4,
   "id": "0fa7152e",
   "metadata": {},
   "outputs": [
    {
     "name": "stdout",
     "output_type": "stream",
     "text": [
      "[1 4 5 6 8]\n"
     ]
    }
   ],
   "source": [
    "a = [1,4,5,6,8]\n",
    "a = np.array([1,4,5,6,8])\n",
    "print(a)"
   ]
  },
  {
   "cell_type": "markdown",
   "id": "a9c94968",
   "metadata": {},
   "source": [
    "# Data Type"
   ]
  },
  {
   "cell_type": "code",
   "execution_count": 5,
   "id": "27801e77",
   "metadata": {},
   "outputs": [
    {
     "data": {
      "text/plain": [
       "array([2, 4, 6, 7])"
      ]
     },
     "execution_count": 5,
     "metadata": {},
     "output_type": "execute_result"
    }
   ],
   "source": [
    "y = [2,4,6,7]\n",
    "y = np.array([2,4,6,7])\n",
    "y"
   ]
  },
  {
   "cell_type": "code",
   "execution_count": 6,
   "id": "523b59f2",
   "metadata": {},
   "outputs": [
    {
     "name": "stdout",
     "output_type": "stream",
     "text": [
      "<class 'numpy.ndarray'>\n"
     ]
    }
   ],
   "source": [
    "y = [2,4,6,7]\n",
    "y = np.array([2,4,6,7])\n",
    "print(type(y))"
   ]
  },
  {
   "cell_type": "markdown",
   "id": "1448d2fd",
   "metadata": {},
   "source": [
    "# Types Of Array"
   ]
  },
  {
   "cell_type": "markdown",
   "id": "b9015cfa",
   "metadata": {},
   "source": [
    "# 1-D Array"
   ]
  },
  {
   "cell_type": "code",
   "execution_count": 7,
   "id": "6bb1fbf2",
   "metadata": {},
   "outputs": [
    {
     "name": "stdout",
     "output_type": "stream",
     "text": [
      "[1 2 4 5]\n",
      "<class 'numpy.ndarray'>\n",
      "1\n"
     ]
    }
   ],
   "source": [
    "arr= np.array([1,2,4,5])\n",
    "print(arr)\n",
    "print(type(arr))\n",
    "print(arr.ndim)\n"
   ]
  },
  {
   "cell_type": "markdown",
   "id": "1b5f75d9",
   "metadata": {},
   "source": [
    "# 2-D Array"
   ]
  },
  {
   "cell_type": "code",
   "execution_count": 8,
   "id": "dddc76f1",
   "metadata": {},
   "outputs": [
    {
     "name": "stdout",
     "output_type": "stream",
     "text": [
      "[[1 4 5 6]\n",
      " [6 7 8 9]]\n",
      "<class 'numpy.ndarray'>\n",
      "2\n"
     ]
    }
   ],
   "source": [
    "arr2 = np.array([[1,4,5,6],[6,7,8,9]])\n",
    "print(arr2)\n",
    "print(type(arr2))\n",
    "print(arr2.ndim)"
   ]
  },
  {
   "cell_type": "markdown",
   "id": "77ef4ad6",
   "metadata": {},
   "source": [
    "# 3-D Array"
   ]
  },
  {
   "cell_type": "code",
   "execution_count": 9,
   "id": "c3468097",
   "metadata": {},
   "outputs": [
    {
     "name": "stdout",
     "output_type": "stream",
     "text": [
      "[[1 2 4 5]\n",
      " [7 8 9 0]\n",
      " [2 4 5 6]]\n",
      "<class 'numpy.ndarray'>\n",
      "2\n"
     ]
    }
   ],
   "source": [
    "arr3 = np.array([[1,2,4,5],[7,8,9,0],[2,4,5,6]])\n",
    "print(arr3)\n",
    "print(type(arr3))\n",
    "print(arr3.ndim)"
   ]
  },
  {
   "cell_type": "code",
   "execution_count": 10,
   "id": "f259004d",
   "metadata": {},
   "outputs": [
    {
     "ename": "TypeError",
     "evalue": "array() got an unexpected keyword argument 'ndim'",
     "output_type": "error",
     "traceback": [
      "\u001b[1;31m---------------------------------------------------------------------------\u001b[0m",
      "\u001b[1;31mTypeError\u001b[0m                                 Traceback (most recent call last)",
      "Cell \u001b[1;32mIn[10], line 1\u001b[0m\n\u001b[1;32m----> 1\u001b[0m arn \u001b[38;5;241m=\u001b[39m np\u001b[38;5;241m.\u001b[39marray([\u001b[38;5;241m2\u001b[39m,\u001b[38;5;241m4\u001b[39m,\u001b[38;5;241m5\u001b[39m,\u001b[38;5;241m6\u001b[39m],ndim \u001b[38;5;241m=\u001b[39m\u001b[38;5;241m10\u001b[39m )\n\u001b[0;32m      2\u001b[0m \u001b[38;5;28mprint\u001b[39m(arn)\n\u001b[0;32m      3\u001b[0m \u001b[38;5;28mprint\u001b[39m(arn\u001b[38;5;241m.\u001b[39mndim)\n",
      "\u001b[1;31mTypeError\u001b[0m: array() got an unexpected keyword argument 'ndim'"
     ]
    }
   ],
   "source": [
    "arn = np.array([2,4,5,6],ndim =10 )\n",
    "print(arn)\n",
    "print(arn.ndim)"
   ]
  },
  {
   "cell_type": "code",
   "execution_count": null,
   "id": "03a97649",
   "metadata": {},
   "outputs": [],
   "source": []
  }
 ],
 "metadata": {
  "kernelspec": {
   "display_name": "Python 3 (ipykernel)",
   "language": "python",
   "name": "python3"
  },
  "language_info": {
   "codemirror_mode": {
    "name": "ipython",
    "version": 3
   },
   "file_extension": ".py",
   "mimetype": "text/x-python",
   "name": "python",
   "nbconvert_exporter": "python",
   "pygments_lexer": "ipython3",
   "version": "3.11.5"
  }
 },
 "nbformat": 4,
 "nbformat_minor": 5
}
