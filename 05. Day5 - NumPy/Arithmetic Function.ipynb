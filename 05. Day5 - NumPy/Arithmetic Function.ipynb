{
 "cells": [
  {
   "cell_type": "markdown",
   "id": "db601a5a",
   "metadata": {},
   "source": [
    "# Arithmetic Functions"
   ]
  },
  {
   "cell_type": "markdown",
   "id": "40d80a98",
   "metadata": {},
   "source": [
    "\n",
    "# np.min(x)\n",
    "# np.max(x)\n",
    "# np.argmin(x)\n",
    "# np.sqrt(x)\n",
    "# np.sin(x)\n",
    "# np.cos(x)\n",
    "# np.cumsum(x)"
   ]
  },
  {
   "cell_type": "code",
   "execution_count": 1,
   "id": "20a6bf0c",
   "metadata": {},
   "outputs": [
    {
     "name": "stdout",
     "output_type": "stream",
     "text": [
      "min :  1\n"
     ]
    }
   ],
   "source": [
    "import numpy as np\n",
    "\n",
    "var = np.array([3,2,1,4,5,6])\n",
    "\n",
    "print(\"min : \", np.min(var))"
   ]
  },
  {
   "cell_type": "code",
   "execution_count": 2,
   "id": "3fed77c3",
   "metadata": {},
   "outputs": [
    {
     "name": "stdout",
     "output_type": "stream",
     "text": [
      "Max :  8\n"
     ]
    }
   ],
   "source": [
    "var1 = np.array([2,4,5,6,8])\n",
    "print(\"Max : \",np.max(var1))"
   ]
  },
  {
   "cell_type": "code",
   "execution_count": 3,
   "id": "4a550d48",
   "metadata": {},
   "outputs": [
    {
     "name": "stdout",
     "output_type": "stream",
     "text": [
      "Argmin : 0\n"
     ]
    }
   ],
   "source": [
    "var2 = np.array([3,5,6,8,9])\n",
    "print(\"Argmin :\", np.argmin(var2))"
   ]
  },
  {
   "cell_type": "code",
   "execution_count": 4,
   "id": "8874b574",
   "metadata": {},
   "outputs": [
    {
     "name": "stdout",
     "output_type": "stream",
     "text": [
      "Sin : [-0.7568025  -0.95892427 -0.2794155   0.6569866   0.98935825]\n"
     ]
    }
   ],
   "source": [
    "var3 = np.array([4,5,6,7,8])\n",
    "print(\"Sin :\",np.sin(var3))"
   ]
  },
  {
   "cell_type": "code",
   "execution_count": 5,
   "id": "b1560901",
   "metadata": {},
   "outputs": [
    {
     "name": "stdout",
     "output_type": "stream",
     "text": [
      "Sqrt :  [6.         7.61577311 4.79583152 9.21954446 9.48683298]\n"
     ]
    }
   ],
   "source": [
    "var4 = np.array([36,58,23,85,90])\n",
    "print(\"Sqrt : \",np.sqrt(var4))"
   ]
  },
  {
   "cell_type": "code",
   "execution_count": 6,
   "id": "bb59af4e",
   "metadata": {},
   "outputs": [
    {
     "name": "stdout",
     "output_type": "stream",
     "text": [
      "Cos : [ 0.5551133   0.51017704  0.39185723 -0.16299078  0.84385396]\n"
     ]
    }
   ],
   "source": [
    "var5 = np.array([43,89,64,52,12])\n",
    "print(\"Cos :\",np.cos(var5))"
   ]
  },
  {
   "cell_type": "code",
   "execution_count": 7,
   "id": "a448534b",
   "metadata": {},
   "outputs": [
    {
     "name": "stdout",
     "output_type": "stream",
     "text": [
      "[2 3 1 4 5]\n"
     ]
    }
   ],
   "source": [
    "var6 = np.array([[2,3,1,4,5],[8,9,4,5,7]])\n",
    "print(np.min(var6,axis=0))"
   ]
  },
  {
   "cell_type": "code",
   "execution_count": 8,
   "id": "9b2e825c",
   "metadata": {},
   "outputs": [
    {
     "name": "stdout",
     "output_type": "stream",
     "text": [
      "[5 9]\n"
     ]
    }
   ],
   "source": [
    "\n",
    "var7 = np.array([[2,3,1,4,5],[8,9,4,5,7]])\n",
    "print(np.max(var7, axis = 1))"
   ]
  },
  {
   "cell_type": "code",
   "execution_count": 9,
   "id": "563bb867",
   "metadata": {},
   "outputs": [
    {
     "name": "stdout",
     "output_type": "stream",
     "text": [
      "[ 3  8 14 21]\n"
     ]
    }
   ],
   "source": [
    "var8 = np.array([3,5,6,7])\n",
    "print(np.cumsum(var8))"
   ]
  },
  {
   "cell_type": "code",
   "execution_count": null,
   "id": "7f082bc6",
   "metadata": {},
   "outputs": [],
   "source": []
  }
 ],
 "metadata": {
  "kernelspec": {
   "display_name": "Python 3 (ipykernel)",
   "language": "python",
   "name": "python3"
  },
  "language_info": {
   "codemirror_mode": {
    "name": "ipython",
    "version": 3
   },
   "file_extension": ".py",
   "mimetype": "text/x-python",
   "name": "python",
   "nbconvert_exporter": "python",
   "pygments_lexer": "ipython3",
   "version": "3.11.5"
  }
 },
 "nbformat": 4,
 "nbformat_minor": 5
}
