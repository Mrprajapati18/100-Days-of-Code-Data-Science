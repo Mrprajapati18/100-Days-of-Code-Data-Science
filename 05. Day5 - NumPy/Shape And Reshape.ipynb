{
 "cells": [
  {
   "cell_type": "markdown",
   "id": "0a531f94",
   "metadata": {},
   "source": [
    "# Shape"
   ]
  },
  {
   "cell_type": "code",
   "execution_count": 1,
   "id": "b0ee1dbd",
   "metadata": {},
   "outputs": [
    {
     "name": "stdout",
     "output_type": "stream",
     "text": [
      "[[1 2 3 4 5]\n",
      " [1 2 4 5 6]]\n",
      "\n",
      "(2, 5)\n"
     ]
    }
   ],
   "source": [
    "import numpy as np\n",
    "\n",
    "var = np.array([[1,2,3,4,5],[1,2,4,5,6]])\n",
    "print(var)\n",
    "print()\n",
    "print(var.shape)"
   ]
  },
  {
   "cell_type": "code",
   "execution_count": 2,
   "id": "8000eeee",
   "metadata": {},
   "outputs": [
    {
     "name": "stdout",
     "output_type": "stream",
     "text": [
      "[[[[1 3 5 6]]]]\n",
      "4\n",
      "\n",
      "(1, 1, 1, 4)\n"
     ]
    }
   ],
   "source": [
    "var1 = np.array([1,3,5,6],ndmin = 4)\n",
    "print(var1)\n",
    "print(var1.ndim)\n",
    "print()\n",
    "print(var1.shape)"
   ]
  },
  {
   "cell_type": "markdown",
   "id": "862ac31c",
   "metadata": {},
   "source": [
    "# Reshape"
   ]
  },
  {
   "cell_type": "code",
   "execution_count": 11,
   "id": "b5ba2494",
   "metadata": {},
   "outputs": [
    {
     "name": "stdout",
     "output_type": "stream",
     "text": [
      "[[2 4]\n",
      " [5 7]\n",
      " [4 9]]\n",
      "Dimension:  2\n"
     ]
    }
   ],
   "source": [
    "var2 = np.array([2,4,5,7,4,9])\n",
    "x = var2.reshape(3,2)\n",
    "print(x)\n",
    "print(\"Dimension: \",x.ndim)\n"
   ]
  },
  {
   "cell_type": "code",
   "execution_count": 12,
   "id": "f3dc70f9",
   "metadata": {},
   "outputs": [
    {
     "name": "stdout",
     "output_type": "stream",
     "text": [
      "[[[2 4]\n",
      "  [5 7]\n",
      "  [4 9]]\n",
      "\n",
      " [[4 5]\n",
      "  [6 7]\n",
      "  [8 9]]]\n",
      "Dimension:  3\n"
     ]
    }
   ],
   "source": [
    "var2 = np.array([2,4,5,7,4,9,4,5,6,7,8,9])\n",
    "x = var2.reshape(2,3,2)\n",
    "print(x)\n",
    "print(\"Dimension: \",x.ndim)"
   ]
  },
  {
   "cell_type": "code",
   "execution_count": null,
   "id": "62ea6a2d",
   "metadata": {},
   "outputs": [],
   "source": []
  }
 ],
 "metadata": {
  "kernelspec": {
   "display_name": "Python 3 (ipykernel)",
   "language": "python",
   "name": "python3"
  },
  "language_info": {
   "codemirror_mode": {
    "name": "ipython",
    "version": 3
   },
   "file_extension": ".py",
   "mimetype": "text/x-python",
   "name": "python",
   "nbconvert_exporter": "python",
   "pygments_lexer": "ipython3",
   "version": "3.11.5"
  }
 },
 "nbformat": 4,
 "nbformat_minor": 5
}
