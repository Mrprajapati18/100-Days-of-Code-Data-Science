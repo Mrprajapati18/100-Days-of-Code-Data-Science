{
 "cells": [
  {
   "cell_type": "markdown",
   "id": "e31f918d",
   "metadata": {},
   "source": [
    "# Join Array"
   ]
  },
  {
   "cell_type": "code",
   "execution_count": 4,
   "id": "e05bf1ea",
   "metadata": {},
   "outputs": [
    {
     "name": "stdout",
     "output_type": "stream",
     "text": [
      "[1 2 3 4 2 3 4 5]\n"
     ]
    }
   ],
   "source": [
    "import numpy as np\n",
    "var = np.array([1,2,3,4])\n",
    "var1 = np.array([2,3,4,5])\n",
    "res = np.concatenate((var,var1))\n",
    "print(res)"
   ]
  },
  {
   "cell_type": "code",
   "execution_count": 6,
   "id": "c56cc1f7",
   "metadata": {},
   "outputs": [
    {
     "name": "stdout",
     "output_type": "stream",
     "text": [
      "[2 3 4 5]\n",
      "\n",
      "[[1 2]\n",
      " [3 4]]\n",
      "\n",
      "[[1 2 9 8]\n",
      " [3 4 7 6]]\n"
     ]
    }
   ],
   "source": [
    "var2 = np.array([[1,2],[3,4]])\n",
    "var3 = np.array([[9,8],[7,6]])\n",
    "\n",
    "ar_new = np.concatenate((var2,var3),axis=1)\n",
    "\n",
    "print(var1)\n",
    "print()\n",
    "print(var2)\n",
    "print()\n",
    "print(ar_new)"
   ]
  },
  {
   "cell_type": "code",
   "execution_count": 11,
   "id": "26e28705",
   "metadata": {},
   "outputs": [
    {
     "name": "stdout",
     "output_type": "stream",
     "text": [
      "[[1 2 3 4]\n",
      " [9 8 7 6]]\n",
      "\n",
      "[1 2 3 4 9 8 7 6]\n",
      "\n",
      "[[1 2 3 4]\n",
      " [9 8 7 6]]\n",
      "\n",
      "[[[1 9]\n",
      "  [2 8]\n",
      "  [3 7]\n",
      "  [4 6]]]\n"
     ]
    }
   ],
   "source": [
    "var4 = np.array([1,2,3,4])\n",
    "var5 = np.array([9,8,7,6])\n",
    "\n",
    "a_new = np.stack((var4,var5),axis = 0)\n",
    "a_new1 = np.hstack((var4,var5)) # row\n",
    "a_new2 = np.vstack((var4,var5)) # height\n",
    "a_new3 = np.dstack((var4,var5))\n",
    "\n",
    "print(a_new)\n",
    "print()\n",
    "print(a_new1)\n",
    "print()\n",
    "print(a_new2)\n",
    "print()\n",
    "print(a_new3)\n"
   ]
  },
  {
   "cell_type": "markdown",
   "id": "ec068a0e",
   "metadata": {},
   "source": [
    "# Split Array"
   ]
  },
  {
   "cell_type": "code",
   "execution_count": 12,
   "id": "cb99e3bb",
   "metadata": {},
   "outputs": [
    {
     "name": "stdout",
     "output_type": "stream",
     "text": [
      "[1 2 3 5 6]\n",
      "\n",
      "[array([1, 2]), array([3, 5]), array([6])]\n"
     ]
    }
   ],
   "source": [
    "arr = np.array([1,2,3,5,6])\n",
    "print(arr)\n",
    "\n",
    "arr_1 = np.array_split(arr,3)\n",
    "print()\n",
    "print(arr_1)"
   ]
  },
  {
   "cell_type": "code",
   "execution_count": 17,
   "id": "e5794610",
   "metadata": {},
   "outputs": [
    {
     "name": "stdout",
     "output_type": "stream",
     "text": [
      "[[1 2 3 5 6 2]\n",
      " [3 4 5 6 9 7]]\n",
      "\n",
      "[array([[1, 2, 3, 5, 6, 2]]), array([[3, 4, 5, 6, 9, 7]]), array([], shape=(0, 6), dtype=int32)]\n",
      "\n",
      "[array([[1, 2],\n",
      "       [3, 4]]), array([[3, 5],\n",
      "       [5, 6]]), array([[6, 2],\n",
      "       [9, 7]])]\n"
     ]
    }
   ],
   "source": [
    "arr1 = np.array([[1,2,3,5,6,2],[3,4,5,6,9,7]])\n",
    "print(arr1)\n",
    "\n",
    "print()\n",
    "arr_res = np.array_split(arr1,3)\n",
    "arr_res1 = np.array_split(arr1,3, axis=1)\n",
    "\n",
    "\n",
    "print(arr_res)\n",
    "print()\n",
    "print(arr_res1)\n"
   ]
  },
  {
   "cell_type": "code",
   "execution_count": null,
   "id": "fac59cb8",
   "metadata": {},
   "outputs": [],
   "source": []
  }
 ],
 "metadata": {
  "kernelspec": {
   "display_name": "Python 3 (ipykernel)",
   "language": "python",
   "name": "python3"
  },
  "language_info": {
   "codemirror_mode": {
    "name": "ipython",
    "version": 3
   },
   "file_extension": ".py",
   "mimetype": "text/x-python",
   "name": "python",
   "nbconvert_exporter": "python",
   "pygments_lexer": "ipython3",
   "version": "3.11.5"
  }
 },
 "nbformat": 4,
 "nbformat_minor": 5
}
