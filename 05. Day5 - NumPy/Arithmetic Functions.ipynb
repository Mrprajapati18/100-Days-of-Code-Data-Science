{
 "cells": [
  {
   "cell_type": "markdown",
   "id": "2a342339",
   "metadata": {},
   "source": [
    "# Arithmetic Functions"
   ]
  },
  {
   "cell_type": "markdown",
   "id": "977ea6b1",
   "metadata": {},
   "source": [
    "# Shuffle\n",
    "# unique\n",
    "# Resize\n",
    "# Flatten\n",
    "# Ravel"
   ]
  },
  {
   "cell_type": "code",
   "execution_count": 1,
   "id": "e3a06367",
   "metadata": {},
   "outputs": [
    {
     "name": "stdout",
     "output_type": "stream",
     "text": [
      "[3 6 1 2 5]\n"
     ]
    }
   ],
   "source": [
    "import numpy as np\n",
    "var = np.array([1,2,3,5,6])\n",
    "\n",
    "np.random.shuffle(var)\n",
    "print(var)"
   ]
  },
  {
   "cell_type": "code",
   "execution_count": 2,
   "id": "66f06116",
   "metadata": {},
   "outputs": [
    {
     "name": "stdout",
     "output_type": "stream",
     "text": [
      "(array([2, 3, 4, 5, 6, 8]), array([0, 6, 1, 2, 3, 4], dtype=int64), array([2, 1, 2, 1, 2, 1], dtype=int64))\n"
     ]
    }
   ],
   "source": [
    "var1 = np.array([2,4,5,6,8,6,3,2,4])\n",
    "\n",
    "x = np.unique(var1,return_index=True,return_counts=True)\n",
    "\n",
    "print(x)"
   ]
  },
  {
   "cell_type": "code",
   "execution_count": 3,
   "id": "c4d8812e",
   "metadata": {},
   "outputs": [
    {
     "name": "stdout",
     "output_type": "stream",
     "text": [
      "[[1 3 4]\n",
      " [5 6 7]]\n"
     ]
    }
   ],
   "source": [
    "var2 = np.array([1,3,4,5,6,7,8])\n",
    "y = np.resize(var2,(2,3))\n",
    "print(y)"
   ]
  },
  {
   "cell_type": "code",
   "execution_count": null,
   "id": "8d64920d",
   "metadata": {},
   "outputs": [],
   "source": []
  }
 ],
 "metadata": {
  "kernelspec": {
   "display_name": "Python 3 (ipykernel)",
   "language": "python",
   "name": "python3"
  },
  "language_info": {
   "codemirror_mode": {
    "name": "ipython",
    "version": 3
   },
   "file_extension": ".py",
   "mimetype": "text/x-python",
   "name": "python",
   "nbconvert_exporter": "python",
   "pygments_lexer": "ipython3",
   "version": "3.11.5"
  }
 },
 "nbformat": 4,
 "nbformat_minor": 5
}
