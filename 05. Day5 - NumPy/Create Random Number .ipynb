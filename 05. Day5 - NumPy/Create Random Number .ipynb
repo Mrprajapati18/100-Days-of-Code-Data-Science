{
 "cells": [
  {
   "cell_type": "markdown",
   "id": "d43ccd40",
   "metadata": {},
   "source": [
    "# Create Numpy Array with Random Numbers Function"
   ]
  },
  {
   "cell_type": "markdown",
   "id": "5a676539",
   "metadata": {},
   "source": [
    "# Rand()  range alie between 0 to 1"
   ]
  },
  {
   "cell_type": "code",
   "execution_count": 3,
   "id": "7cce7166",
   "metadata": {},
   "outputs": [
    {
     "name": "stdout",
     "output_type": "stream",
     "text": [
      "[0.33645236 0.53027001 0.23728094 0.91519622]\n"
     ]
    }
   ],
   "source": [
    "import numpy as np\n",
    "\n",
    "var = np.random.rand(4)\n",
    "print(var)"
   ]
  },
  {
   "cell_type": "code",
   "execution_count": 4,
   "id": "6821c339",
   "metadata": {},
   "outputs": [
    {
     "name": "stdout",
     "output_type": "stream",
     "text": [
      "[[0.94413458 0.03923974 0.28036267 0.1150668  0.50787877]\n",
      " [0.53992636 0.21711053 0.50680603 0.6960874  0.97740627]]\n"
     ]
    }
   ],
   "source": [
    "val1 = np.random.rand(2,5)\n",
    "print(val1)"
   ]
  },
  {
   "cell_type": "code",
   "execution_count": null,
   "id": "b93361e0",
   "metadata": {},
   "outputs": [],
   "source": []
  },
  {
   "cell_type": "markdown",
   "id": "9ccd0c15",
   "metadata": {},
   "source": [
    "# Randn() close to 0 this may return positive and negative numbers"
   ]
  },
  {
   "cell_type": "code",
   "execution_count": 5,
   "id": "81930749",
   "metadata": {},
   "outputs": [
    {
     "name": "stdout",
     "output_type": "stream",
     "text": [
      "[-0.22772097 -1.66974348 -0.27992138 -1.47589629 -0.66366022]\n"
     ]
    }
   ],
   "source": [
    "var2 = np.random.randn(5)\n",
    "print(var2)"
   ]
  },
  {
   "cell_type": "code",
   "execution_count": 6,
   "id": "d4223487",
   "metadata": {},
   "outputs": [
    {
     "name": "stdout",
     "output_type": "stream",
     "text": [
      "[[-1.32607861 -0.56271086  1.72295875  1.29753293 -1.36866241]\n",
      " [ 0.77600819 -0.14301094  0.68488712  0.19111101 -1.01504233]]\n"
     ]
    }
   ],
   "source": [
    "var3 = np.random.randn(2,5)\n",
    "print(var3)"
   ]
  },
  {
   "cell_type": "markdown",
   "id": "99fb2316",
   "metadata": {},
   "source": [
    "# Ranf() fill with random floats in halfopen interval [0.0, 1.0)"
   ]
  },
  {
   "cell_type": "code",
   "execution_count": 7,
   "id": "69055e01",
   "metadata": {},
   "outputs": [
    {
     "name": "stdout",
     "output_type": "stream",
     "text": [
      "[0.69754992 0.77644021 0.46986522 0.85927246]\n"
     ]
    }
   ],
   "source": [
    "var4 = np.random.ranf(4)\n",
    "print(var4)"
   ]
  },
  {
   "cell_type": "code",
   "execution_count": 9,
   "id": "223c73aa",
   "metadata": {},
   "outputs": [
    {
     "name": "stdout",
     "output_type": "stream",
     "text": [
      "[0.73449071 0.59457096 0.26176568 0.82377239 0.76341564 0.68799305]\n"
     ]
    }
   ],
   "source": [
    "var5 = np.random.ranf(6)\n",
    "print(var5)"
   ]
  },
  {
   "cell_type": "markdown",
   "id": "51ab457f",
   "metadata": {},
   "source": [
    "# Randit() the function to be generate random number in a given range var5 = np.random.randint(min,max,total_values)"
   ]
  },
  {
   "cell_type": "code",
   "execution_count": 11,
   "id": "b1379410",
   "metadata": {},
   "outputs": [
    {
     "name": "stdout",
     "output_type": "stream",
     "text": [
      "[ 8 36 49 49 37 14 46 32 21 41]\n"
     ]
    }
   ],
   "source": [
    "var5 = np.random.randint(5,50, 10)\n",
    "print(var5)"
   ]
  },
  {
   "cell_type": "code",
   "execution_count": null,
   "id": "32173582",
   "metadata": {},
   "outputs": [],
   "source": []
  }
 ],
 "metadata": {
  "kernelspec": {
   "display_name": "Python 3 (ipykernel)",
   "language": "python",
   "name": "python3"
  },
  "language_info": {
   "codemirror_mode": {
    "name": "ipython",
    "version": 3
   },
   "file_extension": ".py",
   "mimetype": "text/x-python",
   "name": "python",
   "nbconvert_exporter": "python",
   "pygments_lexer": "ipython3",
   "version": "3.11.5"
  }
 },
 "nbformat": 4,
 "nbformat_minor": 5
}
