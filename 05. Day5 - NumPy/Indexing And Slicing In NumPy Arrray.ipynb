{
 "cells": [
  {
   "cell_type": "markdown",
   "id": "48f2daf9",
   "metadata": {},
   "source": [
    "# Indexing And Slicing In NumPy Arrray"
   ]
  },
  {
   "cell_type": "markdown",
   "id": "687f62a6",
   "metadata": {},
   "source": [
    "# Indexing"
   ]
  },
  {
   "cell_type": "code",
   "execution_count": 4,
   "id": "ddae9882",
   "metadata": {},
   "outputs": [
    {
     "name": "stdout",
     "output_type": "stream",
     "text": [
      "4\n",
      "5\n"
     ]
    }
   ],
   "source": [
    "import numpy as np\n",
    "var = np.array([9,4,5,6])\n",
    "print(var[1])\n",
    "print(var[-2])"
   ]
  },
  {
   "cell_type": "code",
   "execution_count": 7,
   "id": "a17dc57d",
   "metadata": {},
   "outputs": [
    {
     "name": "stdout",
     "output_type": "stream",
     "text": [
      "[[[1 2]\n",
      "  [6 7]]]\n",
      "3\n",
      "\n",
      "7\n"
     ]
    }
   ],
   "source": [
    "var1 = np.array([[[1,2],[6,7]]])\n",
    "print(var1)\n",
    "print(var1.ndim)\n",
    "print()\n",
    "print(var1[0,1,1])"
   ]
  },
  {
   "cell_type": "markdown",
   "id": "9dd0553d",
   "metadata": {},
   "source": [
    "# Slicing Of Array (Start : stop : step)"
   ]
  },
  {
   "cell_type": "code",
   "execution_count": 18,
   "id": "8917609a",
   "metadata": {},
   "outputs": [
    {
     "name": "stdout",
     "output_type": "stream",
     "text": [
      "[1 2 3 5 6 7 8]\n",
      "\n",
      "2 to 6 [2 3 5]\n",
      "\n",
      "2 to end [2 3 5 6 7 8]\n",
      "\n",
      "start to 5 [1 2 3 5 6]\n",
      "Stop : [4 6]\n"
     ]
    }
   ],
   "source": [
    "var2  = np.array([1,2,3,5,6,7,8])\n",
    "                # 0,1,2,3,4,5,6\n",
    "\n",
    "print(var2)\n",
    "print()\n",
    "print(\"2 to 6\",var2[1:4])\n",
    "print()\n",
    "print(\"2 to end\",var2[1:])\n",
    "print()\n",
    "print(\"start to 5\",var2[:5])\n",
    "\n",
    "print(\"Stop :\",var[1:6:2])"
   ]
  },
  {
   "cell_type": "code",
   "execution_count": 22,
   "id": "e0f640f0",
   "metadata": {},
   "outputs": [
    {
     "name": "stdout",
     "output_type": "stream",
     "text": [
      "[[ 1  3  5  6  9  8]\n",
      " [11 22 44 55 66 88]\n",
      " [23 31 43 53 65 67]]\n",
      "\n",
      "22 to 88 : [22 44 55 66 88]\n"
     ]
    }
   ],
   "source": [
    "var3 = np.array([[1,3,5,6,9,8],[11,22,44,55,66,88],[23,31,43,53,65,67]])\n",
    "print(var3)\n",
    "\n",
    "print()\n",
    "\n",
    "print(\"22 to 88 :\",var3[1,1:])"
   ]
  },
  {
   "cell_type": "code",
   "execution_count": null,
   "id": "d0c3804e",
   "metadata": {},
   "outputs": [],
   "source": []
  }
 ],
 "metadata": {
  "kernelspec": {
   "display_name": "Python 3 (ipykernel)",
   "language": "python",
   "name": "python3"
  },
  "language_info": {
   "codemirror_mode": {
    "name": "ipython",
    "version": 3
   },
   "file_extension": ".py",
   "mimetype": "text/x-python",
   "name": "python",
   "nbconvert_exporter": "python",
   "pygments_lexer": "ipython3",
   "version": "3.11.5"
  }
 },
 "nbformat": 4,
 "nbformat_minor": 5
}
