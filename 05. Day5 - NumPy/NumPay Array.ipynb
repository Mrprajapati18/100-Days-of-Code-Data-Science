{
 "cells": [
  {
   "cell_type": "markdown",
   "id": "e9f79754",
   "metadata": {},
   "source": [
    "# NUMPY ARRAY"
   ]
  },
  {
   "cell_type": "markdown",
   "id": "a1c6ae4d",
   "metadata": {},
   "source": [
    "# import libraries"
   ]
  },
  {
   "cell_type": "code",
   "execution_count": 1,
   "id": "6cc72ec1",
   "metadata": {},
   "outputs": [],
   "source": [
    "import numpy as np"
   ]
  },
  {
   "cell_type": "markdown",
   "id": "1bb67de3",
   "metadata": {},
   "source": [
    "# create numpy array"
   ]
  },
  {
   "cell_type": "code",
   "execution_count": 2,
   "id": "4d508fe1",
   "metadata": {},
   "outputs": [
    {
     "name": "stdout",
     "output_type": "stream",
     "text": [
      "[1 2 3 5 6]\n"
     ]
    }
   ],
   "source": [
    "a = np.array([1,2,3,5,6])\n",
    "print(a)"
   ]
  },
  {
   "cell_type": "markdown",
   "id": "09ea20e9",
   "metadata": {},
   "source": [
    "# Array"
   ]
  },
  {
   "cell_type": "code",
   "execution_count": 3,
   "id": "42b24bac",
   "metadata": {},
   "outputs": [],
   "source": [
    "x=[1,2,3,4,5,6]\n",
    "y=np.array(x)"
   ]
  },
  {
   "cell_type": "code",
   "execution_count": 4,
   "id": "1c90742f",
   "metadata": {},
   "outputs": [
    {
     "name": "stdout",
     "output_type": "stream",
     "text": [
      "[1 2 3 4 5 6]\n"
     ]
    }
   ],
   "source": [
    "print(y)"
   ]
  },
  {
   "cell_type": "code",
   "execution_count": 5,
   "id": "ebac55ae",
   "metadata": {},
   "outputs": [
    {
     "name": "stdout",
     "output_type": "stream",
     "text": [
      "<class 'numpy.ndarray'>\n"
     ]
    }
   ],
   "source": [
    "print(type(y))"
   ]
  },
  {
   "cell_type": "markdown",
   "id": "62df62d0",
   "metadata": {},
   "source": [
    "# Dimension in array"
   ]
  },
  {
   "cell_type": "markdown",
   "id": "a96c319a",
   "metadata": {},
   "source": [
    "# 1D Array"
   ]
  },
  {
   "cell_type": "code",
   "execution_count": 6,
   "id": "4756331a",
   "metadata": {},
   "outputs": [
    {
     "name": "stdout",
     "output_type": "stream",
     "text": [
      "[1 2 3 4 5 6]\n",
      "1\n",
      "<class 'numpy.ndarray'>\n"
     ]
    }
   ],
   "source": [
    "x=[1,2,3,4,5,6]\n",
    "\n",
    "y=np.array(x)\n",
    "print(y)\n",
    "\n",
    "print(y.ndim)\n",
    "print(type(y))"
   ]
  },
  {
   "cell_type": "markdown",
   "id": "3a7857c4",
   "metadata": {},
   "source": [
    "# 2D array"
   ]
  },
  {
   "cell_type": "code",
   "execution_count": 8,
   "id": "89d09ab5",
   "metadata": {},
   "outputs": [
    {
     "name": "stdout",
     "output_type": "stream",
     "text": [
      "[[1 2 3 4]\n",
      " [4 5 6 7]]\n",
      "2\n",
      "<class 'numpy.ndarray'>\n"
     ]
    }
   ],
   "source": [
    "array1=np.array([[1,2,3,4],[4,5,6,7]])\n",
    "print(array1)\n",
    "\n",
    "print(array1.ndim)\n",
    "print(type(array1))"
   ]
  },
  {
   "cell_type": "markdown",
   "id": "e7ea01f1",
   "metadata": {},
   "source": [
    "# 3D array"
   ]
  },
  {
   "cell_type": "code",
   "execution_count": 9,
   "id": "1166f2ac",
   "metadata": {},
   "outputs": [
    {
     "name": "stdout",
     "output_type": "stream",
     "text": [
      "[[[1 2 3 4]\n",
      "  [1 4 5 6]\n",
      "  [4 5 6 7]]]\n",
      "3\n"
     ]
    }
   ],
   "source": [
    "array2=np.array([[[1,2,3,4],[1,4,5,6],[4,5,6,7]]])\n",
    "print(array2)\n",
    "print(array2.ndim)"
   ]
  },
  {
   "cell_type": "markdown",
   "id": "dc74ef9d",
   "metadata": {},
   "source": [
    "# ND array"
   ]
  },
  {
   "cell_type": "code",
   "execution_count": 10,
   "id": "0eabcce7",
   "metadata": {},
   "outputs": [
    {
     "name": "stdout",
     "output_type": "stream",
     "text": [
      "[[[[[[[[[[1 2 3 4]]]]]]]]]]\n",
      "10\n"
     ]
    }
   ],
   "source": [
    "arrayn=np.array([1,2,3,4],ndmin=10)\n",
    "print(arrayn)\n",
    "print(arrayn.ndim)"
   ]
  },
  {
   "cell_type": "markdown",
   "id": "94137d8c",
   "metadata": {},
   "source": [
    "# SPECIAL NUMPY ARRAY"
   ]
  },
  {
   "cell_type": "markdown",
   "id": "35661efa",
   "metadata": {},
   "source": [
    "# ARRAY FILL WITH ZERO"
   ]
  },
  {
   "cell_type": "code",
   "execution_count": 13,
   "id": "a540ec9d",
   "metadata": {},
   "outputs": [
    {
     "name": "stdout",
     "output_type": "stream",
     "text": [
      "[0. 0. 0. 0. 0.]\n",
      "1\n",
      "<class 'numpy.ndarray'>\n"
     ]
    }
   ],
   "source": [
    "array_zero = np.zeros(5)\n",
    "print(array_zero)\n",
    "print(array_zero.ndim)\n",
    "print(type(array_zero))"
   ]
  },
  {
   "cell_type": "code",
   "execution_count": 14,
   "id": "2236eba6",
   "metadata": {},
   "outputs": [
    {
     "name": "stdout",
     "output_type": "stream",
     "text": [
      "[[0. 0. 0. 0.]\n",
      " [0. 0. 0. 0.]\n",
      " [0. 0. 0. 0.]]\n",
      "2\n"
     ]
    }
   ],
   "source": [
    "array_zero1=np.zeros((3,4))\n",
    "print (array_zero1)\n",
    "print(array_zero1.ndim)"
   ]
  },
  {
   "cell_type": "markdown",
   "id": "612955a2",
   "metadata": {},
   "source": [
    "# ARRAY FILL WITH ONES"
   ]
  },
  {
   "cell_type": "code",
   "execution_count": 17,
   "id": "dffc3ea4",
   "metadata": {},
   "outputs": [
    {
     "name": "stdout",
     "output_type": "stream",
     "text": [
      "[1. 1. 1. 1. 1.]\n",
      "1\n"
     ]
    }
   ],
   "source": [
    "array_one=np.ones(5)\n",
    "print(array_one)\n",
    "print(array_one.ndim)"
   ]
  },
  {
   "cell_type": "code",
   "execution_count": 18,
   "id": "03a36ac3",
   "metadata": {},
   "outputs": [
    {
     "name": "stdout",
     "output_type": "stream",
     "text": [
      "[[1. 1. 1. 1.]\n",
      " [1. 1. 1. 1.]\n",
      " [1. 1. 1. 1.]]\n",
      "2\n"
     ]
    }
   ],
   "source": [
    "array_one=np.ones([3,4])\n",
    "print(array_one)\n",
    "\n",
    "print(array_one.ndim)"
   ]
  },
  {
   "cell_type": "code",
   "execution_count": 19,
   "id": "93dcb2d4",
   "metadata": {},
   "outputs": [
    {
     "name": "stdout",
     "output_type": "stream",
     "text": [
      "[[1. 1.]\n",
      " [1. 1.]]\n"
     ]
    }
   ],
   "source": [
    "array_one=np.ones([2,2])\n",
    "print(array_one)"
   ]
  },
  {
   "cell_type": "markdown",
   "id": "c8ae77aa",
   "metadata": {},
   "source": [
    "# ARRAY FILL WITH EMPTY"
   ]
  },
  {
   "cell_type": "code",
   "execution_count": 20,
   "id": "3c0f578b",
   "metadata": {},
   "outputs": [
    {
     "name": "stdout",
     "output_type": "stream",
     "text": [
      "[1. 1. 1. 1.]\n"
     ]
    }
   ],
   "source": [
    "array_em=np.empty(4)\n",
    "print(array_em)"
   ]
  },
  {
   "cell_type": "markdown",
   "id": "d387f4f6",
   "metadata": {},
   "source": [
    "# ARRAY FILL WITH RANGE"
   ]
  },
  {
   "cell_type": "code",
   "execution_count": 21,
   "id": "dc504239",
   "metadata": {},
   "outputs": [
    {
     "name": "stdout",
     "output_type": "stream",
     "text": [
      "[0 1 2 3]\n"
     ]
    }
   ],
   "source": [
    "array_ra=np.arange(4)\n",
    "print(array_ra)"
   ]
  },
  {
   "cell_type": "code",
   "execution_count": 22,
   "id": "58ae84f6",
   "metadata": {},
   "outputs": [
    {
     "name": "stdout",
     "output_type": "stream",
     "text": [
      "[0 1 2 3 4]\n"
     ]
    }
   ],
   "source": [
    "array_ra1= np.arange(5)\n",
    "print(array_ra1)"
   ]
  },
  {
   "cell_type": "markdown",
   "id": "a020863c",
   "metadata": {},
   "source": [
    "# ARRAY FILL WITH DIAGONAL"
   ]
  },
  {
   "cell_type": "code",
   "execution_count": 23,
   "id": "9492109f",
   "metadata": {},
   "outputs": [
    {
     "name": "stdout",
     "output_type": "stream",
     "text": [
      "[[1. 0. 0. 0.]\n",
      " [0. 1. 0. 0.]\n",
      " [0. 0. 1. 0.]\n",
      " [0. 0. 0. 1.]]\n",
      "2\n"
     ]
    }
   ],
   "source": [
    "array_dia=np.eye(4)\n",
    "print(array_dia)\n",
    "print(array_dia.ndim)"
   ]
  },
  {
   "cell_type": "code",
   "execution_count": 24,
   "id": "f89e4c0e",
   "metadata": {},
   "outputs": [
    {
     "name": "stdout",
     "output_type": "stream",
     "text": [
      "[[1. 0. 0. 0.]\n",
      " [0. 1. 0. 0.]\n",
      " [0. 0. 1. 0.]\n",
      " [0. 0. 0. 1.]]\n"
     ]
    }
   ],
   "source": [
    "array_dia1=np.eye(3)\n",
    "print(array_dia)"
   ]
  },
  {
   "cell_type": "markdown",
   "id": "f4571d68",
   "metadata": {},
   "source": [
    "# ARRAY FILL WITH LINSPACE"
   ]
  },
  {
   "cell_type": "code",
   "execution_count": 25,
   "id": "3c395d9a",
   "metadata": {},
   "outputs": [
    {
     "name": "stdout",
     "output_type": "stream",
     "text": [
      "[ 1.    3.25  5.5   7.75 10.  ]\n"
     ]
    }
   ],
   "source": [
    "array_lin=np.linspace(1,10,num=5)\n",
    "print(array_lin)"
   ]
  },
  {
   "cell_type": "code",
   "execution_count": 26,
   "id": "933ca24e",
   "metadata": {},
   "outputs": [
    {
     "name": "stdout",
     "output_type": "stream",
     "text": [
      "[ 1.    3.25  5.5   7.75 10.  ]\n"
     ]
    }
   ],
   "source": [
    "arary_lin=np.linspace(2,10,num=5)\n",
    "print(array_lin)"
   ]
  },
  {
   "cell_type": "code",
   "execution_count": null,
   "id": "1da23bd5",
   "metadata": {},
   "outputs": [],
   "source": []
  }
 ],
 "metadata": {
  "kernelspec": {
   "display_name": "Python 3 (ipykernel)",
   "language": "python",
   "name": "python3"
  },
  "language_info": {
   "codemirror_mode": {
    "name": "ipython",
    "version": 3
   },
   "file_extension": ".py",
   "mimetype": "text/x-python",
   "name": "python",
   "nbconvert_exporter": "python",
   "pygments_lexer": "ipython3",
   "version": "3.11.5"
  }
 },
 "nbformat": 4,
 "nbformat_minor": 5
}
