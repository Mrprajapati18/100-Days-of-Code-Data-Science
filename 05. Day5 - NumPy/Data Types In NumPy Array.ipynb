{
 "cells": [
  {
   "cell_type": "markdown",
   "id": "5764ccec",
   "metadata": {},
   "source": [
    "# Data Type"
   ]
  },
  {
   "cell_type": "code",
   "execution_count": 2,
   "id": "d43cbec1",
   "metadata": {},
   "outputs": [
    {
     "name": "stdout",
     "output_type": "stream",
     "text": [
      "[1 3 5 6]\n",
      "Data type int32\n"
     ]
    }
   ],
   "source": [
    "import numpy as np\n",
    "\n",
    "var = np.array([1,3,5,6])\n",
    "\n",
    "print(var)\n",
    "print(\"Data type\",var.dtype)\n"
   ]
  },
  {
   "cell_type": "code",
   "execution_count": 3,
   "id": "ecd4d3fe",
   "metadata": {},
   "outputs": [
    {
     "name": "stdout",
     "output_type": "stream",
     "text": [
      "[0. 1. 5. 8.]\n",
      "Data type float64\n"
     ]
    }
   ],
   "source": [
    "var1 = np.array([0, 1.0,5,8])\n",
    "print(var1)\n",
    "print(\"Data type\",var1.dtype)"
   ]
  },
  {
   "cell_type": "code",
   "execution_count": 5,
   "id": "0a718492",
   "metadata": {},
   "outputs": [
    {
     "name": "stdout",
     "output_type": "stream",
     "text": [
      "['A' 'S' 'D' 'G']\n",
      "Data type <U1\n"
     ]
    }
   ],
   "source": [
    "var2 = np.array([\"A\", \"S\", \"D\", \"G\"])\n",
    "print(var2)\n",
    "print(\"Data type\", var2.dtype)"
   ]
  },
  {
   "cell_type": "code",
   "execution_count": 7,
   "id": "cfe2e49d",
   "metadata": {},
   "outputs": [
    {
     "name": "stdout",
     "output_type": "stream",
     "text": [
      "Data type:  int8\n",
      "[1 2 3 4 5]\n"
     ]
    }
   ],
   "source": [
    "x = np.array([1,2,3,4,5],dtype = np.int8)\n",
    "print(\"Data type: \",x.dtype)\n",
    "print(x)"
   ]
  },
  {
   "cell_type": "code",
   "execution_count": 11,
   "id": "c0a99dee",
   "metadata": {},
   "outputs": [
    {
     "name": "stdout",
     "output_type": "stream",
     "text": [
      "Data type:  float32\n",
      "[1. 2. 3. 4. 5.]\n"
     ]
    }
   ],
   "source": [
    "x1 = np.array([1,2,3,4,5],dtype = \"f\")\n",
    "print(\"Data type: \",x1.dtype)\n",
    "print(x1)"
   ]
  },
  {
   "cell_type": "markdown",
   "id": "91436a54",
   "metadata": {},
   "source": [
    "# Conversion of data Type"
   ]
  },
  {
   "cell_type": "code",
   "execution_count": 14,
   "id": "b2d353ac",
   "metadata": {},
   "outputs": [
    {
     "name": "stdout",
     "output_type": "stream",
     "text": [
      "Data type :  int32\n",
      "Data type:  float32\n",
      "Data type:  int32\n",
      "[1 2 3 5 6]\n",
      "[1. 2. 3. 5. 6.]\n",
      "[1 2 3 5 6]\n"
     ]
    }
   ],
   "source": [
    "y = np.array([1,2,3,5,6])\n",
    "new = np.float32(y)\n",
    "new_one = np.int_(new)\n",
    "\n",
    "print(\"Data type : \",y.dtype)\n",
    "print(\"Data type: \",new.dtype)\n",
    "print(\"Data type: \", new_one.dtype)\n",
    "\n",
    "print(y)\n",
    "print(new)\n",
    "print(new_one)"
   ]
  },
  {
   "cell_type": "code",
   "execution_count": null,
   "id": "e1aeb3b1",
   "metadata": {},
   "outputs": [],
   "source": []
  }
 ],
 "metadata": {
  "kernelspec": {
   "display_name": "Python 3 (ipykernel)",
   "language": "python",
   "name": "python3"
  },
  "language_info": {
   "codemirror_mode": {
    "name": "ipython",
    "version": 3
   },
   "file_extension": ".py",
   "mimetype": "text/x-python",
   "name": "python",
   "nbconvert_exporter": "python",
   "pygments_lexer": "ipython3",
   "version": "3.11.5"
  }
 },
 "nbformat": 4,
 "nbformat_minor": 5
}
