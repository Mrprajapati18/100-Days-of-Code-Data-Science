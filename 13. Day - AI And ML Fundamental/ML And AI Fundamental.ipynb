{
 "cells": [
  {
   "cell_type": "markdown",
   "id": "13d83c1a",
   "metadata": {},
   "source": [
    "# Introduction to Artificial Intelligence and Machine Learning Fundamentals "
   ]
  },
  {
   "cell_type": "markdown",
   "id": "b27b14cf",
   "metadata": {},
   "source": [
    "# 🔸Artificial Intelligence"
   ]
  },
  {
   "cell_type": "raw",
   "id": "5dd5b3d4",
   "metadata": {},
   "source": [
    "Artificial intelligence is a field of science concerned with building computers and machines that can reason, learn, and act in such a way that would normally require human intelligence or that involves data whose scale exceeds what humans can analyze. "
   ]
  },
  {
   "cell_type": "raw",
   "id": "931947be",
   "metadata": {},
   "source": [
    "AI is a broad field that encompasses many different disciplines, including computer science, data analytics and statistics, hardware and software engineering, linguistics, neuroscience, and even philosophy and psychology. "
   ]
  },
  {
   "cell_type": "raw",
   "id": "df7cab81",
   "metadata": {},
   "source": [
    "On an operational level for business use, AI is a set of technologies that are based primarily on machine learning and deep learning, used for data analytics, predictions and forecasting, object categorization, natural language processing, recommendations, intelligent data retrieval, and more."
   ]
  },
  {
   "cell_type": "code",
   "execution_count": null,
   "id": "ddaf683d",
   "metadata": {},
   "outputs": [],
   "source": []
  },
  {
   "cell_type": "raw",
   "id": "c626fe70",
   "metadata": {},
   "source": [
    "Artificial Intelligence, or AI, embodies the creation of intelligent systems that can simulate human thought processes. It encompasses tasks like problem-solving, decision-making, and natural language understanding. AI technologies, including machine learning and deep learning, empower us to develop systems that learn, adapt, and evolve."
   ]
  },
  {
   "cell_type": "markdown",
   "id": "1c583b13",
   "metadata": {},
   "source": [
    "# 🔸 Machine Learning:"
   ]
  },
  {
   "cell_type": "raw",
   "id": "217a5546",
   "metadata": {},
   "source": [
    "1. Difference between AI and Machine Learning: While AI is the broader concept of creating machines capable of intelligent       behavior, Machine Learning is a subset that involves enabling machines to learn from data without explicit programming.\n"
   ]
  },
  {
   "cell_type": "raw",
   "id": "8990ea3c",
   "metadata": {},
   "source": [
    "2. Applications of Machine Learning: From recommendation systems to fraud detection, medical diagnosis to autonomous vehicles, Machine Learning applications are vast and transformative.\n"
   ]
  },
  {
   "cell_type": "raw",
   "id": "2abaf5ce",
   "metadata": {},
   "source": [
    "3. Limitations of Machine Learning: While powerful, Machine Learning has limitations like dependency on data quality, lack of    reasoning abilities, and susceptibility to bias."
   ]
  },
  {
   "cell_type": "markdown",
   "id": "48cdad7c",
   "metadata": {},
   "source": [
    "# 🔸Types of Machine Learning:"
   ]
  },
  {
   "cell_type": "markdown",
   "id": "75f007d8",
   "metadata": {},
   "source": [
    "   # Supervised Learning: \n",
    "    \n",
    "    Learning from labeled data, where the algorithm predicts outcomes based on examples.\n"
   ]
  },
  {
   "cell_type": "markdown",
   "id": "ee6390b6",
   "metadata": {},
   "source": [
    "# Unsupervised Learning:\n",
    "\n",
    "    Unearthing patterns and relationships in unlabeled data, often used for clustering and dimensionality reduction.\n"
   ]
  },
  {
   "cell_type": "markdown",
   "id": "be0bc452",
   "metadata": {},
   "source": [
    "# Reinforcement Learning: \n",
    "\n",
    "     Training algorithms to take actions in an environment to maximize a reward, often used in robotics and gaming.\n"
   ]
  },
  {
   "cell_type": "markdown",
   "id": "879b3b58",
   "metadata": {},
   "source": [
    "# Comparisons between all Types: \n",
    "    \n",
    "    Understanding the unique characteristics and applications of each Machine Learning type is essential for informed decision-  making."
   ]
  },
  {
   "cell_type": "code",
   "execution_count": null,
   "id": "4d1c3f87",
   "metadata": {},
   "outputs": [],
   "source": []
  }
 ],
 "metadata": {
  "kernelspec": {
   "display_name": "Python 3 (ipykernel)",
   "language": "python",
   "name": "python3"
  },
  "language_info": {
   "codemirror_mode": {
    "name": "ipython",
    "version": 3
   },
   "file_extension": ".py",
   "mimetype": "text/x-python",
   "name": "python",
   "nbconvert_exporter": "python",
   "pygments_lexer": "ipython3",
   "version": "3.11.5"
  }
 },
 "nbformat": 4,
 "nbformat_minor": 5
}
