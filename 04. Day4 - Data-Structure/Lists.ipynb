{
 "cells": [
  {
   "cell_type": "markdown",
   "id": "42d1f812",
   "metadata": {},
   "source": [
    "# Lists"
   ]
  },
  {
   "cell_type": "code",
   "execution_count": 1,
   "id": "5286ebc4",
   "metadata": {},
   "outputs": [],
   "source": [
    "p = [1,2,3.6,\"Durgesh\",\"Smartbridge\"]\n",
    "\n",
    "# list is changable(mutable) and store the different type of data (hytrogeniuse) and it is hyderogenious(same type)\n",
    "# list is ordered"
   ]
  },
  {
   "cell_type": "code",
   "execution_count": 2,
   "id": "07674b87",
   "metadata": {},
   "outputs": [
    {
     "name": "stdout",
     "output_type": "stream",
     "text": [
      "[1, 2, 3.6, 'Durgesh', 'Smartbridge']\n"
     ]
    }
   ],
   "source": [
    "print(p)"
   ]
  },
  {
   "cell_type": "code",
   "execution_count": 3,
   "id": "a93c782a",
   "metadata": {},
   "outputs": [
    {
     "data": {
      "text/plain": [
       "list"
      ]
     },
     "execution_count": 3,
     "metadata": {},
     "output_type": "execute_result"
    }
   ],
   "source": [
    "type(p)"
   ]
  },
  {
   "cell_type": "code",
   "execution_count": 4,
   "id": "21605f7e",
   "metadata": {},
   "outputs": [
    {
     "data": {
      "text/plain": [
       "'Durgesh'"
      ]
     },
     "execution_count": 4,
     "metadata": {},
     "output_type": "execute_result"
    }
   ],
   "source": [
    "p[3]"
   ]
  },
  {
   "cell_type": "code",
   "execution_count": 5,
   "id": "40afa8e2",
   "metadata": {},
   "outputs": [
    {
     "data": {
      "text/plain": [
       "str"
      ]
     },
     "execution_count": 5,
     "metadata": {},
     "output_type": "execute_result"
    }
   ],
   "source": [
    "type(p[3])"
   ]
  },
  {
   "cell_type": "code",
   "execution_count": 6,
   "id": "d0deec91",
   "metadata": {},
   "outputs": [
    {
     "data": {
      "text/plain": [
       "5"
      ]
     },
     "execution_count": 6,
     "metadata": {},
     "output_type": "execute_result"
    }
   ],
   "source": [
    "# To  check the lenght of the lists\n",
    "# lenght of list is index + 1\n",
    "len(p) "
   ]
  },
  {
   "cell_type": "code",
   "execution_count": 7,
   "id": "29c60b68",
   "metadata": {},
   "outputs": [],
   "source": [
    "# adding the any number,String in list it will be always add in last\n",
    "p.append(20)"
   ]
  },
  {
   "cell_type": "code",
   "execution_count": 8,
   "id": "ea248546",
   "metadata": {},
   "outputs": [
    {
     "name": "stdout",
     "output_type": "stream",
     "text": [
      "[1, 2, 3.6, 'Durgesh', 'Smartbridge', 20]\n"
     ]
    }
   ],
   "source": [
    "print(p)"
   ]
  },
  {
   "cell_type": "code",
   "execution_count": 9,
   "id": "1cf364ca",
   "metadata": {},
   "outputs": [],
   "source": [
    "# List is ordered\n",
    "p.insert(4,\"python\") "
   ]
  },
  {
   "cell_type": "code",
   "execution_count": 10,
   "id": "eadcdc50",
   "metadata": {},
   "outputs": [
    {
     "data": {
      "text/plain": [
       "[1, 2, 3.6, 'Durgesh', 'python', 'Smartbridge', 20]"
      ]
     },
     "execution_count": 10,
     "metadata": {},
     "output_type": "execute_result"
    }
   ],
   "source": [
    "p"
   ]
  },
  {
   "cell_type": "code",
   "execution_count": 11,
   "id": "a2327123",
   "metadata": {},
   "outputs": [],
   "source": [
    "# list Allow duplicate\n",
    "p.append(\"Durgesh\")"
   ]
  },
  {
   "cell_type": "code",
   "execution_count": 12,
   "id": "ad223776",
   "metadata": {},
   "outputs": [
    {
     "name": "stdout",
     "output_type": "stream",
     "text": [
      "[1, 2, 3.6, 'Durgesh', 'python', 'Smartbridge', 20, 'Durgesh']\n"
     ]
    }
   ],
   "source": [
    "print(p)"
   ]
  },
  {
   "cell_type": "code",
   "execution_count": 13,
   "id": "b0d92d6c",
   "metadata": {},
   "outputs": [],
   "source": [
    "p.remove(p[3]) # remove the specific element from list using index number"
   ]
  },
  {
   "cell_type": "code",
   "execution_count": 14,
   "id": "381ebb08",
   "metadata": {},
   "outputs": [
    {
     "data": {
      "text/plain": [
       "[1, 2, 3.6, 'python', 'Smartbridge', 20, 'Durgesh']"
      ]
     },
     "execution_count": 14,
     "metadata": {},
     "output_type": "execute_result"
    }
   ],
   "source": [
    "p"
   ]
  },
  {
   "cell_type": "code",
   "execution_count": 15,
   "id": "3f0feaac",
   "metadata": {},
   "outputs": [],
   "source": [
    "p.remove(\"python\") # Remove the specific element by using name of the element"
   ]
  },
  {
   "cell_type": "code",
   "execution_count": 16,
   "id": "3eda0e53",
   "metadata": {},
   "outputs": [
    {
     "data": {
      "text/plain": [
       "[1, 2, 3.6, 'Smartbridge', 20, 'Durgesh']"
      ]
     },
     "execution_count": 16,
     "metadata": {},
     "output_type": "execute_result"
    }
   ],
   "source": [
    "p"
   ]
  },
  {
   "cell_type": "code",
   "execution_count": 17,
   "id": "acdcaba6",
   "metadata": {},
   "outputs": [
    {
     "data": {
      "text/plain": [
       "['__add__',\n",
       " '__class__',\n",
       " '__class_getitem__',\n",
       " '__contains__',\n",
       " '__delattr__',\n",
       " '__delitem__',\n",
       " '__dir__',\n",
       " '__doc__',\n",
       " '__eq__',\n",
       " '__format__',\n",
       " '__ge__',\n",
       " '__getattribute__',\n",
       " '__getitem__',\n",
       " '__getstate__',\n",
       " '__gt__',\n",
       " '__hash__',\n",
       " '__iadd__',\n",
       " '__imul__',\n",
       " '__init__',\n",
       " '__init_subclass__',\n",
       " '__iter__',\n",
       " '__le__',\n",
       " '__len__',\n",
       " '__lt__',\n",
       " '__mul__',\n",
       " '__ne__',\n",
       " '__new__',\n",
       " '__reduce__',\n",
       " '__reduce_ex__',\n",
       " '__repr__',\n",
       " '__reversed__',\n",
       " '__rmul__',\n",
       " '__setattr__',\n",
       " '__setitem__',\n",
       " '__sizeof__',\n",
       " '__str__',\n",
       " '__subclasshook__',\n",
       " 'append',\n",
       " 'clear',\n",
       " 'copy',\n",
       " 'count',\n",
       " 'extend',\n",
       " 'index',\n",
       " 'insert',\n",
       " 'pop',\n",
       " 'remove',\n",
       " 'reverse',\n",
       " 'sort']"
      ]
     },
     "execution_count": 17,
     "metadata": {},
     "output_type": "execute_result"
    }
   ],
   "source": [
    "dir(list)"
   ]
  },
  {
   "cell_type": "code",
   "execution_count": 18,
   "id": "df7b3a71",
   "metadata": {},
   "outputs": [],
   "source": [
    "p.reverse()"
   ]
  },
  {
   "cell_type": "code",
   "execution_count": 19,
   "id": "45ead3ca",
   "metadata": {},
   "outputs": [],
   "source": [
    "# Extend mean add the extra element\n",
    "p.extend([6,7,8])"
   ]
  },
  {
   "cell_type": "code",
   "execution_count": 20,
   "id": "db162e61",
   "metadata": {},
   "outputs": [
    {
     "data": {
      "text/plain": [
       "['Durgesh', 20, 'Smartbridge', 3.6, 2, 1, 6, 7, 8]"
      ]
     },
     "execution_count": 20,
     "metadata": {},
     "output_type": "execute_result"
    }
   ],
   "source": [
    "p"
   ]
  },
  {
   "cell_type": "code",
   "execution_count": 21,
   "id": "0da92358",
   "metadata": {},
   "outputs": [],
   "source": [
    "# Print the 10 time of the list\n",
    "p = [1,2,3.6, 5, 40]*10"
   ]
  },
  {
   "cell_type": "code",
   "execution_count": 22,
   "id": "3d08fcb4",
   "metadata": {},
   "outputs": [
    {
     "name": "stdout",
     "output_type": "stream",
     "text": [
      "[1, 2, 3.6, 5, 40, 1, 2, 3.6, 5, 40, 1, 2, 3.6, 5, 40, 1, 2, 3.6, 5, 40, 1, 2, 3.6, 5, 40, 1, 2, 3.6, 5, 40, 1, 2, 3.6, 5, 40, 1, 2, 3.6, 5, 40, 1, 2, 3.6, 5, 40, 1, 2, 3.6, 5, 40]\n"
     ]
    }
   ],
   "source": [
    "print(p)"
   ]
  },
  {
   "cell_type": "code",
   "execution_count": 23,
   "id": "5bd5bea2",
   "metadata": {},
   "outputs": [
    {
     "name": "stdout",
     "output_type": "stream",
     "text": [
      "2\n",
      "3\n",
      "2\n"
     ]
    }
   ],
   "source": [
    "# Count the element in list\n",
    "p = [1,1,3,44,3,3,5,6,6,7]\n",
    "print(p.count(1))\n",
    "print(p.count(3))\n",
    "print(p.count(6))"
   ]
  },
  {
   "cell_type": "code",
   "execution_count": 24,
   "id": "b31ac2c3",
   "metadata": {},
   "outputs": [
    {
     "name": "stdout",
     "output_type": "stream",
     "text": [
      "Max Number =  5\n",
      "Min Number =  1\n"
     ]
    }
   ],
   "source": [
    "p = [1, 2, 3, 4, 5]\n",
    "\n",
    "print(\"Max Number = \",max(p))\n",
    "print(\"Min Number = \",min(p))"
   ]
  },
  {
   "cell_type": "code",
   "execution_count": 25,
   "id": "5e23a5a3",
   "metadata": {},
   "outputs": [
    {
     "data": {
      "text/plain": [
       "[1, 2, 3, 4, 5]"
      ]
     },
     "execution_count": 25,
     "metadata": {},
     "output_type": "execute_result"
    }
   ],
   "source": [
    "p"
   ]
  },
  {
   "cell_type": "code",
   "execution_count": 26,
   "id": "fd130121",
   "metadata": {},
   "outputs": [
    {
     "data": {
      "text/plain": [
       "[1, 2, 3, 4, 5]"
      ]
     },
     "execution_count": 26,
     "metadata": {},
     "output_type": "execute_result"
    }
   ],
   "source": [
    "p.copy()"
   ]
  },
  {
   "cell_type": "code",
   "execution_count": 27,
   "id": "ff267050",
   "metadata": {},
   "outputs": [],
   "source": [
    "# Containg the different types of data\n",
    "list_1 = [\"Sachin\", 10, 12.334, 3+2j, False];"
   ]
  },
  {
   "cell_type": "code",
   "execution_count": 28,
   "id": "37a5ad19",
   "metadata": {},
   "outputs": [
    {
     "data": {
      "text/plain": [
       "['Sachin', 10, 12.334, (3+2j), False]"
      ]
     },
     "execution_count": 28,
     "metadata": {},
     "output_type": "execute_result"
    }
   ],
   "source": [
    "list_1"
   ]
  },
  {
   "cell_type": "code",
   "execution_count": 29,
   "id": "3494c6b4",
   "metadata": {},
   "outputs": [
    {
     "data": {
      "text/plain": [
       "5"
      ]
     },
     "execution_count": 29,
     "metadata": {},
     "output_type": "execute_result"
    }
   ],
   "source": [
    "p.pop()"
   ]
  },
  {
   "cell_type": "code",
   "execution_count": 30,
   "id": "e019badf",
   "metadata": {},
   "outputs": [
    {
     "data": {
      "text/plain": [
       "False"
      ]
     },
     "execution_count": 30,
     "metadata": {},
     "output_type": "execute_result"
    }
   ],
   "source": [
    "list_1.pop()"
   ]
  },
  {
   "cell_type": "code",
   "execution_count": 31,
   "id": "b53c0042",
   "metadata": {},
   "outputs": [
    {
     "name": "stdout",
     "output_type": "stream",
     "text": [
      "Sum = 150\n"
     ]
    }
   ],
   "source": [
    "# Adding the sum of the list\n",
    "\n",
    "list_2 = [10, 20, 30,40,50]\n",
    "sum = 0;\n",
    "for i in list_2:\n",
    "    sum = sum + i\n",
    "    \n",
    "print(f\"Sum = {sum}\")\n",
    "#print(f \"Sum = \", sum)"
   ]
  },
  {
   "cell_type": "markdown",
   "id": "f0ad6107",
   "metadata": {},
   "source": [
    "# List Compare"
   ]
  },
  {
   "cell_type": "code",
   "execution_count": 44,
   "id": "a7ef8de3",
   "metadata": {},
   "outputs": [
    {
     "name": "stdout",
     "output_type": "stream",
     "text": [
      "[2, 4, 6, 8, 10, 12, 14, 16, 18, 20]\n"
     ]
    }
   ],
   "source": [
    "# 1. Even list using list comprehension\n",
    "\n",
    "even = [i for i in range(1,21) if i%2==0]\n",
    "print(even)"
   ]
  },
  {
   "cell_type": "code",
   "execution_count": 43,
   "id": "4ab75ed8",
   "metadata": {},
   "outputs": [
    {
     "name": "stdout",
     "output_type": "stream",
     "text": [
      "[1, 3, 5, 7, 9, 11, 13, 15, 17, 19]\n"
     ]
    }
   ],
   "source": [
    "# 2. Odd list using list comprehension\n",
    "\n",
    "odd = [i for i in range(1,21) if i%2!=0]\n",
    "print(odd)"
   ]
  },
  {
   "cell_type": "code",
   "execution_count": 45,
   "id": "d440f56a",
   "metadata": {},
   "outputs": [
    {
     "name": "stdout",
     "output_type": "stream",
     "text": [
      "[[0, 1, 2], [0, 1, 2], [0, 1, 2]]\n"
     ]
    }
   ],
   "source": [
    "# 3. Matrix generation using list comprehension\n",
    "\n",
    "mat = [[j for j in range(3)] for i in range(3)]\n",
    "print(mat)"
   ]
  },
  {
   "cell_type": "code",
   "execution_count": 47,
   "id": "d54bbe0f",
   "metadata": {},
   "outputs": [
    {
     "name": "stdout",
     "output_type": "stream",
     "text": [
      "['D', 'u', 'r', 'g', 'e', 's', 'h', ' ', 'K', 'u', 'm', 'a', 'r', ' ', 'P', 'r', 'a', 'j', 'a', 'p', 'a', 't', 'i']\n"
     ]
    }
   ],
   "source": [
    "# 4. List comprehenstion to iterate through the string\n",
    "\n",
    "letters = [i for i in 'Durgesh Kumar Prajapati']\n",
    "print(letters)"
   ]
  },
  {
   "cell_type": "code",
   "execution_count": null,
   "id": "4f08b09b",
   "metadata": {},
   "outputs": [],
   "source": []
  },
  {
   "cell_type": "code",
   "execution_count": null,
   "id": "2a9b3d39",
   "metadata": {},
   "outputs": [],
   "source": []
  }
 ],
 "metadata": {
  "kernelspec": {
   "display_name": "Python 3 (ipykernel)",
   "language": "python",
   "name": "python3"
  },
  "language_info": {
   "codemirror_mode": {
    "name": "ipython",
    "version": 3
   },
   "file_extension": ".py",
   "mimetype": "text/x-python",
   "name": "python",
   "nbconvert_exporter": "python",
   "pygments_lexer": "ipython3",
   "version": "3.11.5"
  }
 },
 "nbformat": 4,
 "nbformat_minor": 5
}
