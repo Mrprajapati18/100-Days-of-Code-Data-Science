{
 "cells": [
  {
   "cell_type": "markdown",
   "id": "dc017291",
   "metadata": {},
   "source": [
    "# Dictionary"
   ]
  },
  {
   "cell_type": "code",
   "execution_count": 1,
   "id": "d2e06b6a",
   "metadata": {},
   "outputs": [],
   "source": [
    "# Dictionary have key values pair and allow curly bracket\n"
   ]
  },
  {
   "cell_type": "code",
   "execution_count": 2,
   "id": "abec1af6",
   "metadata": {},
   "outputs": [],
   "source": [
    "cricket = {\"captain\": \"Virat\", \"keeper\": \"MSD\", \"Bowler\": \"Jusprit\"}"
   ]
  },
  {
   "cell_type": "code",
   "execution_count": 3,
   "id": "d67dc4ed",
   "metadata": {},
   "outputs": [
    {
     "data": {
      "text/plain": [
       "{'captain': 'Virat', 'keeper': 'MSD', 'Bowler': 'Jusprit'}"
      ]
     },
     "execution_count": 3,
     "metadata": {},
     "output_type": "execute_result"
    }
   ],
   "source": [
    "cricket"
   ]
  },
  {
   "cell_type": "code",
   "execution_count": 4,
   "id": "af24dc45",
   "metadata": {},
   "outputs": [
    {
     "data": {
      "text/plain": [
       "dict"
      ]
     },
     "execution_count": 4,
     "metadata": {},
     "output_type": "execute_result"
    }
   ],
   "source": [
    "type(cricket)"
   ]
  },
  {
   "cell_type": "code",
   "execution_count": 5,
   "id": "32636681",
   "metadata": {},
   "outputs": [
    {
     "data": {
      "text/plain": [
       "'Jusprit'"
      ]
     },
     "execution_count": 5,
     "metadata": {},
     "output_type": "execute_result"
    }
   ],
   "source": [
    "cricket[\"Bowler\"]"
   ]
  },
  {
   "cell_type": "code",
   "execution_count": 6,
   "id": "822e02ef",
   "metadata": {},
   "outputs": [
    {
     "data": {
      "text/plain": [
       "['__class__',\n",
       " '__class_getitem__',\n",
       " '__contains__',\n",
       " '__delattr__',\n",
       " '__delitem__',\n",
       " '__dir__',\n",
       " '__doc__',\n",
       " '__eq__',\n",
       " '__format__',\n",
       " '__ge__',\n",
       " '__getattribute__',\n",
       " '__getitem__',\n",
       " '__getstate__',\n",
       " '__gt__',\n",
       " '__hash__',\n",
       " '__init__',\n",
       " '__init_subclass__',\n",
       " '__ior__',\n",
       " '__iter__',\n",
       " '__le__',\n",
       " '__len__',\n",
       " '__lt__',\n",
       " '__ne__',\n",
       " '__new__',\n",
       " '__or__',\n",
       " '__reduce__',\n",
       " '__reduce_ex__',\n",
       " '__repr__',\n",
       " '__reversed__',\n",
       " '__ror__',\n",
       " '__setattr__',\n",
       " '__setitem__',\n",
       " '__sizeof__',\n",
       " '__str__',\n",
       " '__subclasshook__',\n",
       " 'clear',\n",
       " 'copy',\n",
       " 'fromkeys',\n",
       " 'get',\n",
       " 'items',\n",
       " 'keys',\n",
       " 'pop',\n",
       " 'popitem',\n",
       " 'setdefault',\n",
       " 'update',\n",
       " 'values']"
      ]
     },
     "execution_count": 6,
     "metadata": {},
     "output_type": "execute_result"
    }
   ],
   "source": [
    "dir(cricket)"
   ]
  },
  {
   "cell_type": "code",
   "execution_count": 7,
   "id": "47c93da0",
   "metadata": {},
   "outputs": [
    {
     "data": {
      "text/plain": [
       "dict_keys(['captain', 'keeper', 'Bowler'])"
      ]
     },
     "execution_count": 7,
     "metadata": {},
     "output_type": "execute_result"
    }
   ],
   "source": [
    "cricket.keys()"
   ]
  },
  {
   "cell_type": "code",
   "execution_count": 8,
   "id": "173e756f",
   "metadata": {},
   "outputs": [
    {
     "data": {
      "text/plain": [
       "dict_values(['Virat', 'MSD', 'Jusprit'])"
      ]
     },
     "execution_count": 8,
     "metadata": {},
     "output_type": "execute_result"
    }
   ],
   "source": [
    "cricket.values()"
   ]
  },
  {
   "cell_type": "code",
   "execution_count": 9,
   "id": "8fecca3e",
   "metadata": {},
   "outputs": [
    {
     "data": {
      "text/plain": [
       "dict_items([('captain', 'Virat'), ('keeper', 'MSD'), ('Bowler', 'Jusprit')])"
      ]
     },
     "execution_count": 9,
     "metadata": {},
     "output_type": "execute_result"
    }
   ],
   "source": [
    "cricket.items()"
   ]
  },
  {
   "cell_type": "code",
   "execution_count": 10,
   "id": "9144660a",
   "metadata": {},
   "outputs": [
    {
     "data": {
      "text/plain": [
       "{'captain': 'Virat', 'keeper': 'MSD', 'Bowler': 'Jusprit'}"
      ]
     },
     "execution_count": 10,
     "metadata": {},
     "output_type": "execute_result"
    }
   ],
   "source": [
    "cricket.copy()"
   ]
  },
  {
   "cell_type": "code",
   "execution_count": 11,
   "id": "66491353",
   "metadata": {},
   "outputs": [
    {
     "name": "stdout",
     "output_type": "stream",
     "text": [
      "dict_items([('captain', 'Virat'), ('keeper', 'MSD'), ('Bowler', 'Jusprit')])\n",
      "dict_keys(['captain', 'keeper', 'Bowler'])\n",
      "dict_values(['Virat', 'MSD', 'Jusprit'])\n"
     ]
    }
   ],
   "source": [
    "print(cricket.items())\n",
    "print(cricket.keys())\n",
    "print(cricket.values())"
   ]
  },
  {
   "cell_type": "code",
   "execution_count": 15,
   "id": "e98390a0",
   "metadata": {},
   "outputs": [
    {
     "name": "stdout",
     "output_type": "stream",
     "text": [
      "{1: 'Durgesh', 2: 'Shiv', 3: 'Aditya'}\n",
      "None\n"
     ]
    }
   ],
   "source": [
    "# Create Dictionary with dict() method\n",
    "d = [(1, 'Durgesh'), (2, 'Shiv'), (3, 'Aditya')]\n",
    "d_1 = print(dict(d))\n",
    "print(d_1)"
   ]
  },
  {
   "cell_type": "code",
   "execution_count": 17,
   "id": "ca3be575",
   "metadata": {},
   "outputs": [
    {
     "data": {
      "text/plain": [
       "'Virat'"
      ]
     },
     "execution_count": 17,
     "metadata": {},
     "output_type": "execute_result"
    }
   ],
   "source": [
    "# Access the dict values\n",
    "cricket[\"captain\"]"
   ]
  },
  {
   "cell_type": "markdown",
   "id": "b27774f0",
   "metadata": {},
   "source": [
    "# Loop through the Dictionary"
   ]
  },
  {
   "cell_type": "code",
   "execution_count": 18,
   "id": "9dee746e",
   "metadata": {},
   "outputs": [
    {
     "name": "stdout",
     "output_type": "stream",
     "text": [
      "captain Virat\n",
      "keeper MSD\n",
      "Bowler Jusprit\n"
     ]
    }
   ],
   "source": [
    "# Loop through the Dictionary print the keys values pair\n",
    "\n",
    "for i in cricket.keys():\n",
    "    print(i, cricket[i])"
   ]
  },
  {
   "cell_type": "code",
   "execution_count": 20,
   "id": "7c5f363e",
   "metadata": {},
   "outputs": [
    {
     "name": "stdout",
     "output_type": "stream",
     "text": [
      "Virat\n",
      "MSD\n",
      "Jusprit\n"
     ]
    }
   ],
   "source": [
    "# print the only one values\n",
    "for i in cricket.values():\n",
    "    print(i)"
   ]
  },
  {
   "cell_type": "code",
   "execution_count": 21,
   "id": "a4fc6ec1",
   "metadata": {},
   "outputs": [
    {
     "name": "stdout",
     "output_type": "stream",
     "text": [
      "('captain', 'Virat')\n",
      "('keeper', 'MSD')\n",
      "('Bowler', 'Jusprit')\n"
     ]
    }
   ],
   "source": [
    "# Print the iteams\n",
    "for i in cricket.items():\n",
    "    print(i)"
   ]
  },
  {
   "cell_type": "code",
   "execution_count": null,
   "id": "bc89e290",
   "metadata": {},
   "outputs": [],
   "source": []
  }
 ],
 "metadata": {
  "kernelspec": {
   "display_name": "Python 3 (ipykernel)",
   "language": "python",
   "name": "python3"
  },
  "language_info": {
   "codemirror_mode": {
    "name": "ipython",
    "version": 3
   },
   "file_extension": ".py",
   "mimetype": "text/x-python",
   "name": "python",
   "nbconvert_exporter": "python",
   "pygments_lexer": "ipython3",
   "version": "3.11.5"
  }
 },
 "nbformat": 4,
 "nbformat_minor": 5
}
