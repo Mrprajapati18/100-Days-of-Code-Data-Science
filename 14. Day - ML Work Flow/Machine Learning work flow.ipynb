{
 "cells": [
  {
   "cell_type": "markdown",
   "id": "ed342cca",
   "metadata": {},
   "source": [
    "# Machine Learning work flow"
   ]
  },
  {
   "cell_type": "markdown",
   "id": "8e15e885",
   "metadata": {},
   "source": [
    "# Data Preprocessing:\n"
   ]
  },
  {
   "cell_type": "markdown",
   "id": "fefe67f2",
   "metadata": {},
   "source": [
    "- Data preprocessing is a crucial step in the machine learning workflow. It involves cleaning, transforming, and preparing the raw data to make it suitable for training and evaluating machine learning models. Some common tasks in data preprocessing include:"
   ]
  },
  {
   "cell_type": "markdown",
   "id": "925fadb1",
   "metadata": {},
   "source": [
    "Data Cleaning: \n",
    " - Handling missing values, outliers, and inconsistencies in the data.\n"
   ]
  },
  {
   "cell_type": "markdown",
   "id": "0c4d025c",
   "metadata": {},
   "source": [
    " Feature Selection/Extraction: \n",
    "- Choosing relevant features or creating new features from existing ones to improve model performance.\n"
   ]
  },
  {
   "cell_type": "markdown",
   "id": "545d9d47",
   "metadata": {},
   "source": [
    " Normalization/Scaling: \n",
    "- Scaling numerical features to the same range to prevent features with larger values from dominating the learning process.\n"
   ]
  },
  {
   "cell_type": "markdown",
   "id": "67afed0a",
   "metadata": {},
   "source": [
    " Encoding Categorical Variables:\n",
    "- Converting categorical variables into numerical representations (e.g., one-hot encoding) that can be used by the model.\n"
   ]
  },
  {
   "cell_type": "markdown",
   "id": "625740be",
   "metadata": {},
   "source": [
    " Splitting Data:\n",
    "- Dividing the dataset into training, validation, and test sets. The training set is used for model training, the validation set helps tune hyperparameters, and the test set evaluates the final model's performance."
   ]
  },
  {
   "cell_type": "markdown",
   "id": "c8a37f81",
   "metadata": {},
   "source": [
    "# Model Training:"
   ]
  },
  {
   "cell_type": "markdown",
   "id": "2bfca37f",
   "metadata": {},
   "source": [
    "Model training involves feeding the preprocessed data into a machine learning algorithm to learn patterns and relationships from the data. The goal is for the model to capture these patterns and make accurate predictions on new, unseen data. The process includes the following steps:"
   ]
  },
  {
   "cell_type": "markdown",
   "id": "004d9f1e",
   "metadata": {},
   "source": [
    "- Selecting a Model: Choose an appropriate machine learning algorithm based on the problem type (e.g., classification, regression) and the characteristics of the data.\n"
   ]
  },
  {
   "cell_type": "markdown",
   "id": "0b218bd1",
   "metadata": {},
   "source": [
    "- Initializing Parameters: Initialize the model's parameters or weights."
   ]
  },
  {
   "cell_type": "markdown",
   "id": "488553f4",
   "metadata": {},
   "source": [
    "- Training Loop: Feed the training data into the model iteratively, adjusting the model's parameters to minimize a chosen loss function that quantifies the difference between predicted and actual values.\n"
   ]
  },
  {
   "cell_type": "markdown",
   "id": "762cb51c",
   "metadata": {},
   "source": [
    "- Gradient Descent (for Optimization): Many machine learning algorithms use gradient descent or its variants to update model parameters in the direction that reduces the loss function.\n"
   ]
  },
  {
   "cell_type": "markdown",
   "id": "9dca3792",
   "metadata": {},
   "source": [
    "- Hyperparameter Tuning: Tune hyperparameters (parameters not learned during training) to optimize model performance. This can be done using techniques like grid search or random search."
   ]
  },
  {
   "cell_type": "markdown",
   "id": "41285912",
   "metadata": {},
   "source": [
    "# Model Evaluation:"
   ]
  },
  {
   "cell_type": "markdown",
   "id": "32acc3bf",
   "metadata": {},
   "source": [
    "Once the model is trained, it's essential to assess its performance to determine how well it will perform on new, unseen data. Evaluation methods vary based on the problem type and the nature of the data. Common evaluation techniques include:"
   ]
  },
  {
   "cell_type": "markdown",
   "id": "bf3ecede",
   "metadata": {},
   "source": [
    "- Metrics: Use appropriate evaluation metrics such as accuracy, precision, recall, F1-score for classification; mean squared error (MSE), root mean squared error (RMSE) for regression, etc.\n"
   ]
  },
  {
   "cell_type": "markdown",
   "id": "8272a409",
   "metadata": {},
   "source": [
    "- Cross-Validation: Perform cross-validation to get a more robust estimate of the model's performance by splitting the data into multiple train-test folds."
   ]
  },
  {
   "cell_type": "markdown",
   "id": "63a43d50",
   "metadata": {},
   "source": [
    "- Confusion Matrix: Especially useful for classification problems, it helps visualize the model's performance in terms of true positives, true negatives, false positives, and false negatives."
   ]
  },
  {
   "cell_type": "markdown",
   "id": "272ee81b",
   "metadata": {},
   "source": [
    "- ROC and AUC: Receiver Operating Characteristic (ROC) curve and Area Under the Curve (AUC) provide insight into a model's ability to distinguish between classes in classification tasks."
   ]
  },
  {
   "cell_type": "markdown",
   "id": "ad91a0c9",
   "metadata": {},
   "source": [
    "- Overfitting and Underfitting: Analyze whether the model is overfitting (performing well on training data but poorly on new data) or underfitting (performing poorly on both training and new data)."
   ]
  },
  {
   "cell_type": "code",
   "execution_count": null,
   "id": "800874df",
   "metadata": {},
   "outputs": [],
   "source": []
  }
 ],
 "metadata": {
  "kernelspec": {
   "display_name": "Python 3 (ipykernel)",
   "language": "python",
   "name": "python3"
  },
  "language_info": {
   "codemirror_mode": {
    "name": "ipython",
    "version": 3
   },
   "file_extension": ".py",
   "mimetype": "text/x-python",
   "name": "python",
   "nbconvert_exporter": "python",
   "pygments_lexer": "ipython3",
   "version": "3.11.5"
  }
 },
 "nbformat": 4,
 "nbformat_minor": 5
}
