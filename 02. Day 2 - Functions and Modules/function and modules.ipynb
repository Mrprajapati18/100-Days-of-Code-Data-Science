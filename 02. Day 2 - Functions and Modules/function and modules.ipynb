{
 "cells": [
  {
   "cell_type": "markdown",
   "id": "caff3c6c",
   "metadata": {},
   "source": [
    "# Functions"
   ]
  },
  {
   "cell_type": "code",
   "execution_count": 4,
   "id": "34c5f5c2",
   "metadata": {},
   "outputs": [],
   "source": [
    "# create user define function\n",
    "def greet():\n",
    "    print(\"Hello world!\")\n",
    "  "
   ]
  },
  {
   "cell_type": "code",
   "execution_count": 6,
   "id": "95ebbe38",
   "metadata": {},
   "outputs": [
    {
     "name": "stdout",
     "output_type": "stream",
     "text": [
      "Hello world!....\n"
     ]
    }
   ],
   "source": [
    "# Function Calling\n",
    "def greet():\n",
    "    print(\"Hello world!....\")\n",
    "greet()    "
   ]
  },
  {
   "cell_type": "code",
   "execution_count": 7,
   "id": "79cbcde5",
   "metadata": {},
   "outputs": [
    {
     "name": "stdout",
     "output_type": "stream",
     "text": [
      "Testing\n",
      "Instruction 1\n",
      "Instruction 2\n",
      "Instruction 3\n",
      "Instruction 4\n"
     ]
    }
   ],
   "source": [
    "# out side of the functions\n",
    "def fun():\n",
    "    print(\"Instruction 1\")\n",
    "    print(\"Instruction 2\")\n",
    "    print(\"Instruction 3\")\n",
    "    print(\"Instruction 4\")\n",
    "    \n",
    "print(\"Testing\")\n",
    "fun()"
   ]
  },
  {
   "cell_type": "code",
   "execution_count": 26,
   "id": "0e2a8063",
   "metadata": {},
   "outputs": [
    {
     "name": "stdout",
     "output_type": "stream",
     "text": [
      "Sum =  35\n"
     ]
    }
   ],
   "source": [
    "# Parameter With return values\n",
    "\n",
    "def add(n1, n2):  \n",
    "    Sum = n1 + n2\n",
    "    print(\"Sum = \",Sum)\n",
    "# Calling the function\n",
    "add(12, 23)     "
   ]
  },
  {
   "cell_type": "code",
   "execution_count": 29,
   "id": "13f4c37b",
   "metadata": {},
   "outputs": [
    {
     "name": "stdout",
     "output_type": "stream",
     "text": [
      "Sum =  25\n"
     ]
    }
   ],
   "source": [
    "\n",
    "# No Parameter Not Return types\n",
    "\n",
    "def addition():\n",
    "    a = 12\n",
    "    b = 13\n",
    "    sum = a + b\n",
    "    print(\"Sum = \",sum)\n",
    "# calling the function\n",
    "addition()    "
   ]
  },
  {
   "cell_type": "code",
   "execution_count": 31,
   "id": "2175750a",
   "metadata": {},
   "outputs": [
    {
     "data": {
      "text/plain": [
       "48"
      ]
     },
     "execution_count": 31,
     "metadata": {},
     "output_type": "execute_result"
    }
   ],
   "source": [
    "# No Parameter Return the values\n",
    "\n",
    "# Define the function \n",
    "def add():\n",
    "    a = 23\n",
    "    b = 25\n",
    "    Sum = a + b\n",
    "    return Sum\n",
    "# Calling the function\n",
    "add()"
   ]
  },
  {
   "cell_type": "code",
   "execution_count": 41,
   "id": "dbb615b9",
   "metadata": {},
   "outputs": [
    {
     "name": "stdout",
     "output_type": "stream",
     "text": [
      "Sum =  25\n"
     ]
    }
   ],
   "source": [
    "# Parameter Return the values\n",
    "\n",
    "# Define the function\n",
    "def add(a, b):\n",
    "    Sum = a + b\n",
    "\n",
    "    print(\"Sum = \", Sum)\n",
    "    \n",
    "add(12, 13)"
   ]
  },
  {
   "cell_type": "code",
   "execution_count": null,
   "id": "7f33cac7",
   "metadata": {},
   "outputs": [],
   "source": []
  },
  {
   "cell_type": "code",
   "execution_count": null,
   "id": "87952131",
   "metadata": {},
   "outputs": [],
   "source": []
  }
 ],
 "metadata": {
  "kernelspec": {
   "display_name": "Python 3 (ipykernel)",
   "language": "python",
   "name": "python3"
  },
  "language_info": {
   "codemirror_mode": {
    "name": "ipython",
    "version": 3
   },
   "file_extension": ".py",
   "mimetype": "text/x-python",
   "name": "python",
   "nbconvert_exporter": "python",
   "pygments_lexer": "ipython3",
   "version": "3.11.5"
  }
 },
 "nbformat": 4,
 "nbformat_minor": 5
}
