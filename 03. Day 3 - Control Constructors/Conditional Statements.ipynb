{
 "cells": [
  {
   "cell_type": "code",
   "execution_count": 1,
   "id": "eb14d221",
   "metadata": {},
   "outputs": [],
   "source": [
    "# if \n",
    "# if-else?\n",
    "# elif ladder"
   ]
  },
  {
   "cell_type": "markdown",
   "id": "a0f2f982",
   "metadata": {},
   "source": [
    "# if statement:"
   ]
  },
  {
   "cell_type": "code",
   "execution_count": null,
   "id": "cff4465b",
   "metadata": {},
   "outputs": [],
   "source": [
    "# Simple If\n",
    "print(\"Welcome to the college\")\n",
    "marks = int(input(\"Enter the marks : \"))\n",
    "if(marks > 80):\n",
    "   print(\"Welcome to the tech club\")"
   ]
  },
  {
   "cell_type": "markdown",
   "id": "df9fd1c5",
   "metadata": {},
   "source": [
    "# if-else "
   ]
  },
  {
   "cell_type": "code",
   "execution_count": 4,
   "id": "71fa03a9",
   "metadata": {},
   "outputs": [
    {
     "name": "stdout",
     "output_type": "stream",
     "text": [
      "To check given number is even or odd? \n",
      "Enter the number: 536\n",
      "Number is even\n"
     ]
    }
   ],
   "source": [
    "# Even odd Number using python\n",
    "print(\"To check given number is even or odd? \")\n",
    "num = int(input(\"Enter the number: \"))\n",
    "if(num % 2 == 0):\n",
    "    print(\"Number is even\")\n",
    "\n",
    "else:\n",
    "    print(\"Number is Odd\")\n"
   ]
  },
  {
   "cell_type": "markdown",
   "id": "402a7f20",
   "metadata": {},
   "source": [
    "# if-elif-else statement:"
   ]
  },
  {
   "cell_type": "code",
   "execution_count": 5,
   "id": "b7e76625",
   "metadata": {},
   "outputs": [
    {
     "name": "stdout",
     "output_type": "stream",
     "text": [
      "Enter the marks of product in range: \n",
      "Enter the marks: 67\n",
      "By smart watch\n"
     ]
    }
   ],
   "source": [
    "# To check the marks of the product \n",
    "print(\"Enter the marks of product in range: \")\n",
    "marks = int(input(\"Enter the marks: \"))\n",
    "if(marks >= 90):\n",
    "    print(\"By Laptop\")\n",
    "elif(marks >= 76):\n",
    "    print(\"By Tablete\")\n",
    "elif(marks >= 61):\n",
    "    print(\"By smart watch\")\n",
    "elif(marks >= 40):\n",
    "    print(\"By Bicycle\")\n",
    "else:\n",
    "    print(\"Try Again latter!\")\n",
    "    "
   ]
  },
  {
   "cell_type": "code",
   "execution_count": null,
   "id": "21737ad5",
   "metadata": {},
   "outputs": [],
   "source": [
    "# print the discount percent of the specifice amount\n",
    "\n",
    "print(\"Enter the Amount\")\n",
    "amount = int(input(Please Enter the Amount))\n",
    "final_amount = 0\n",
    "\n",
    "if(amonut >= 5000):\n",
    "    print(\"Discount percentage is eligible of 20% \")\n",
    "    final_amount = amount - (amount*(20/100))\n",
    "    \n",
    "elif(amonut >= 3000 and amount < 4999):\n",
    "    print(\"Discount percentage is eligible of 15% \")\n",
    "    final_amount = amount - (amount*(15/100))\n",
    "elif(amount >= 1500 and amount < 3499):\n",
    "    print(\"Discount percentage is eligibale of 10% \")\n",
    "    final_amount = amount - (amount*(10/100))\n",
    "else:\n",
    "    print(\"No Discount!\")"
   ]
  },
  {
   "cell_type": "code",
   "execution_count": 1,
   "id": "068c4b31",
   "metadata": {},
   "outputs": [
    {
     "name": "stdout",
     "output_type": "stream",
     "text": [
      "i is equal to 10..\n"
     ]
    }
   ],
   "source": [
    "i = 10\n",
    "if i == 5:\n",
    "    print(\"i is equal to 5..\")\n",
    "elif i == 10:\n",
    "    print(\"i is equal to 10..\")\n",
    "elif i < 15:\n",
    "    print(\"i\")"
   ]
  },
  {
   "cell_type": "markdown",
   "id": "a1fdfcbd",
   "metadata": {},
   "source": [
    "# Nested-if statements:"
   ]
  },
  {
   "cell_type": "code",
   "execution_count": null,
   "id": "e518416f",
   "metadata": {},
   "outputs": [],
   "source": [
    "marks = int(input(\"Enter the student's marks: \"))\n",
    "if marks >= 90:\n",
    "    grade = 'A'\n",
    "    if marks >= 95:\n",
    "        distinction = True\n",
    "    else:\n",
    "        distinction = False\n",
    "elif marks >= 80:\n",
    "    grade = 'B'\n",
    "    distinction = False\n",
    "elif marks >= 70:\n",
    "    grade = 'C'\n",
    "    distinction = False\n",
    "elif marks >= 60:\n",
    "    grade = 'D'\n",
    "    distinction = False\n",
    "else:\n",
    "    grade = 'F'\n",
    "    distinction = False\n",
    "print(\"Grade:\", grade)\n",
    "\n",
    "if distinction:\n",
    "    print(\"Distinction achieved!\")\n"
   ]
  },
  {
   "cell_type": "markdown",
   "id": "5a90e55e",
   "metadata": {},
   "source": [
    "# Short hand if statement:"
   ]
  },
  {
   "cell_type": "code",
   "execution_count": 22,
   "id": "b280e517",
   "metadata": {},
   "outputs": [
    {
     "name": "stdout",
     "output_type": "stream",
     "text": [
      "i is less then 10..\n"
     ]
    }
   ],
   "source": [
    "# Short Hand if Statement\n",
    "i = 10\n",
    "if i < 15: print(\"i is less then 10..\")"
   ]
  },
  {
   "cell_type": "code",
   "execution_count": 24,
   "id": "1c9a5e18",
   "metadata": {},
   "outputs": [
    {
     "name": "stdout",
     "output_type": "stream",
     "text": [
      "True\n"
     ]
    }
   ],
   "source": [
    "i = 10\n",
    "print(True) if i==10 else print(False)"
   ]
  },
  {
   "cell_type": "markdown",
   "id": "868d5c63",
   "metadata": {},
   "source": [
    "# Match-case statement:"
   ]
  },
  {
   "cell_type": "code",
   "execution_count": 28,
   "id": "a2e6b98c",
   "metadata": {},
   "outputs": [
    {
     "name": "stdout",
     "output_type": "stream",
     "text": [
      "Enter num: 6\n",
      "Not matched\n"
     ]
    }
   ],
   "source": [
    "# match-case statement\n",
    "flag = int(input('Enter num: '))\n",
    "\n",
    "match flag:\n",
    "    case 5 :\n",
    "        print('Flag = 5')\n",
    "    case 10 :\n",
    "        print('Flag = 10')\n",
    "    case 15 :\n",
    "        print('Flag = 15')\n",
    "    case 20 :\n",
    "        print('Flag = 20')\n",
    "# The underscore _ acts as a default case (like default in a switch statement\n",
    "    case _ :\n",
    "        print('Not matched')\n",
    "    "
   ]
  },
  {
   "cell_type": "markdown",
   "id": "182d45f4",
   "metadata": {},
   "source": [
    "# Match case with OR statement"
   ]
  },
  {
   "cell_type": "code",
   "execution_count": 38,
   "id": "52ec017f",
   "metadata": {},
   "outputs": [
    {
     "name": "stdout",
     "output_type": "stream",
     "text": [
      "Allowed access to Admin..\n"
     ]
    }
   ],
   "source": [
    "# Match case with OR statement\n",
    "\n",
    "role = 'Admin'\n",
    "\n",
    "match role:\n",
    "    case 'Emp' | 'User':\n",
    "        print('Not allowed access..')\n",
    "    case 'Admin':\n",
    "        print('Allowed access to Admin..')\n",
    "    case _ :\n",
    "        print('No role..')"
   ]
  },
  {
   "cell_type": "code",
   "execution_count": null,
   "id": "4e8a3a98",
   "metadata": {},
   "outputs": [],
   "source": []
  }
 ],
 "metadata": {
  "kernelspec": {
   "display_name": "base",
   "language": "python",
   "name": "python3"
  },
  "language_info": {
   "codemirror_mode": {
    "name": "ipython",
    "version": 3
   },
   "file_extension": ".py",
   "mimetype": "text/x-python",
   "name": "python",
   "nbconvert_exporter": "python",
   "pygments_lexer": "ipython3",
   "version": "3.11.5"
  }
 },
 "nbformat": 4,
 "nbformat_minor": 5
}
