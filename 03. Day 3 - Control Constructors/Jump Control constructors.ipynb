{
 "cells": [
  {
   "cell_type": "markdown",
   "id": "de062c76",
   "metadata": {},
   "source": [
    "# Break condition\n"
   ]
  },
  {
   "cell_type": "code",
   "execution_count": 4,
   "id": "b7d50972",
   "metadata": {},
   "outputs": [
    {
     "name": "stdout",
     "output_type": "stream",
     "text": [
      "Chocklate 1\n",
      "Chocklate 2\n"
     ]
    }
   ],
   "source": [
    "for i in range(1,6):\n",
    "    if(i==3):\n",
    "        break\n",
    "    print(\"Chocklate\", i)"
   ]
  },
  {
   "cell_type": "code",
   "execution_count": 7,
   "id": "8bd799ed",
   "metadata": {},
   "outputs": [
    {
     "name": "stdout",
     "output_type": "stream",
     "text": [
      "Nothong done..\n"
     ]
    }
   ],
   "source": [
    "def fun():\n",
    "    pass\n",
    "print(\"Nothong done..\")"
   ]
  },
  {
   "cell_type": "code",
   "execution_count": 10,
   "id": "40b2f30c",
   "metadata": {},
   "outputs": [
    {
     "name": "stdout",
     "output_type": "stream",
     "text": [
      "2\n",
      "4\n",
      "6\n",
      "8\n",
      "10\n"
     ]
    }
   ],
   "source": [
    "# print the even number using continue\n",
    "for i in range(1,11):\n",
    "    if i%2 == 1:\n",
    "        continue\n",
    "    print(i)"
   ]
  },
  {
   "cell_type": "code",
   "execution_count": 11,
   "id": "6ee7c2aa",
   "metadata": {},
   "outputs": [
    {
     "name": "stdout",
     "output_type": "stream",
     "text": [
      "1\n",
      "2\n",
      "3\n",
      "4\n"
     ]
    }
   ],
   "source": [
    "for i in range(1,11):\n",
    "    if i%5 == 0:\n",
    "        break\n",
    "    print(i)    "
   ]
  },
  {
   "cell_type": "code",
   "execution_count": null,
   "id": "c31be49b",
   "metadata": {},
   "outputs": [],
   "source": []
  }
 ],
 "metadata": {
  "kernelspec": {
   "display_name": "Python 3 (ipykernel)",
   "language": "python",
   "name": "python3"
  },
  "language_info": {
   "codemirror_mode": {
    "name": "ipython",
    "version": 3
   },
   "file_extension": ".py",
   "mimetype": "text/x-python",
   "name": "python",
   "nbconvert_exporter": "python",
   "pygments_lexer": "ipython3",
   "version": "3.11.5"
  }
 },
 "nbformat": 4,
 "nbformat_minor": 5
}
