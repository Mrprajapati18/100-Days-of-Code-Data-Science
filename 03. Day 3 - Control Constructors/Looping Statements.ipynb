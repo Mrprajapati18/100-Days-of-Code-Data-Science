{
 "cells": [
  {
   "cell_type": "markdown",
   "id": "0936a426",
   "metadata": {},
   "source": [
    "# while Loop"
   ]
  },
  {
   "cell_type": "code",
   "execution_count": 12,
   "id": "958c259e",
   "metadata": {},
   "outputs": [
    {
     "name": "stdout",
     "output_type": "stream",
     "text": [
      "1\n",
      "2\n",
      "3\n",
      "4\n"
     ]
    }
   ],
   "source": [
    "# While loop\n",
    "\n",
    "count = 1\n",
    "while count<5:\n",
    "    print(count)\n",
    "    count += 1"
   ]
  },
  {
   "cell_type": "code",
   "execution_count": 14,
   "id": "74f1f019",
   "metadata": {},
   "outputs": [
    {
     "name": "stdout",
     "output_type": "stream",
     "text": [
      "1\n",
      "2\n",
      "3\n",
      "4\n",
      "5\n",
      "6\n",
      "7\n",
      "8\n",
      "9\n",
      "End of the Loop..\n"
     ]
    }
   ],
   "source": [
    "# While loop with else block\n",
    "count = 1\n",
    "while count < 10:\n",
    "    print(count)\n",
    "    count += 1\n",
    "else:\n",
    "    print(\"End of the Loop..\")"
   ]
  },
  {
   "cell_type": "code",
   "execution_count": 24,
   "id": "d69d8544",
   "metadata": {},
   "outputs": [
    {
     "name": "stdout",
     "output_type": "stream",
     "text": [
      "Enter the number:5\n",
      "5 X 1 = 5\n",
      "5 X 2 = 10\n",
      "5 X 3 = 15\n",
      "5 X 4 = 20\n",
      "5 X 5 = 25\n",
      "5 X 6 = 30\n",
      "5 X 7 = 35\n",
      "5 X 8 = 40\n",
      "5 X 9 = 45\n",
      "5 X 10 = 50\n"
     ]
    }
   ],
   "source": [
    "# print table of the number using while loop\n",
    "num = int(input(\"Enter the number:\"))\n",
    "count = 1\n",
    "while(count<=10):\n",
    "    print(num,\"X\",count,\"=\",num*count)\n",
    "    count = count + 1"
   ]
  },
  {
   "cell_type": "markdown",
   "id": "cf907d5b",
   "metadata": {},
   "source": [
    "# For Loop"
   ]
  },
  {
   "cell_type": "code",
   "execution_count": 15,
   "id": "dff89280",
   "metadata": {},
   "outputs": [
    {
     "name": "stdout",
     "output_type": "stream",
     "text": [
      "Hello World..\n",
      "Hello World..\n",
      "Hello World..\n",
      "Hello World..\n",
      "Hello World..\n"
     ]
    }
   ],
   "source": [
    "# print the Hello world 5 time\n",
    "for i in range(5):\n",
    "    print(\"Hello World..\")"
   ]
  },
  {
   "cell_type": "code",
   "execution_count": 16,
   "id": "cde07000",
   "metadata": {},
   "outputs": [
    {
     "name": "stdout",
     "output_type": "stream",
     "text": [
      "Mr Prajapati\n",
      "Mr Prajapati\n",
      "Mr Prajapati\n",
      "Mr Prajapati\n"
     ]
    }
   ],
   "source": [
    "for i in range(1,5): # String loop from 1 but last digit not inclusive\n",
    "    print(\"Mr Prajapati\")"
   ]
  },
  {
   "cell_type": "code",
   "execution_count": 18,
   "id": "55c0c16c",
   "metadata": {},
   "outputs": [
    {
     "name": "stdout",
     "output_type": "stream",
     "text": [
      "1\n",
      "2\n",
      "3\n",
      "4\n",
      "5\n",
      "6\n",
      "7\n",
      "8\n",
      "9\n"
     ]
    }
   ],
   "source": [
    "for i in range(1, 10):\n",
    "    print(i)"
   ]
  },
  {
   "cell_type": "code",
   "execution_count": 19,
   "id": "336e1e76",
   "metadata": {},
   "outputs": [
    {
     "name": "stdout",
     "output_type": "stream",
     "text": [
      "0\n",
      "1\n",
      "2\n",
      "3\n"
     ]
    }
   ],
   "source": [
    "# In the range function values start from Zero\n",
    "for i  in range(4): \n",
    "    print(i)"
   ]
  },
  {
   "cell_type": "code",
   "execution_count": 20,
   "id": "c3179500",
   "metadata": {},
   "outputs": [
    {
     "name": "stdout",
     "output_type": "stream",
     "text": [
      "0\n",
      "1\n",
      "2\n",
      "3\n",
      "4\n"
     ]
    }
   ],
   "source": [
    "for i in range(0, 5): # Zero is inclusive but 5 is exclusive\n",
    "    print(i)"
   ]
  },
  {
   "cell_type": "code",
   "execution_count": 17,
   "id": "8f0a8014",
   "metadata": {},
   "outputs": [
    {
     "name": "stdout",
     "output_type": "stream",
     "text": [
      "3\n",
      "6\n",
      "9\n",
      "12\n",
      "15\n",
      "18\n"
     ]
    }
   ],
   "source": [
    "# range(strat stop step)\n",
    "for i in range(3, 20, 3):\n",
    "    print(i)"
   ]
  },
  {
   "cell_type": "code",
   "execution_count": 19,
   "id": "61d65715",
   "metadata": {},
   "outputs": [
    {
     "name": "stdout",
     "output_type": "stream",
     "text": [
      "25\n",
      "22\n",
      "19\n",
      "16\n"
     ]
    }
   ],
   "source": [
    "for i in range(25, 13, -3):\n",
    "    print(i)"
   ]
  },
  {
   "cell_type": "code",
   "execution_count": 10,
   "id": "ae73273a",
   "metadata": {},
   "outputs": [
    {
     "name": "stdout",
     "output_type": "stream",
     "text": [
      "Enter the number: 99\n",
      "99 X 1 = 99\n",
      "99 X 2 = 198\n",
      "99 X 3 = 297\n",
      "99 X 4 = 396\n",
      "99 X 5 = 495\n",
      "99 X 6 = 594\n",
      "99 X 7 = 693\n",
      "99 X 8 = 792\n",
      "99 X 9 = 891\n",
      "99 X 10 = 990\n"
     ]
    }
   ],
   "source": [
    "# print the table  of any number\n",
    "num = int(input(\"Enter the number: \"))\n",
    "for i in range(1, 11):\n",
    "    print(num, \"X\", i, \"=\", (i * num))"
   ]
  },
  {
   "cell_type": "code",
   "execution_count": 15,
   "id": "05075468",
   "metadata": {},
   "outputs": [
    {
     "name": "stdout",
     "output_type": "stream",
     "text": [
      "Enter the number to find the factorial: 5\n",
      "Factorial of 5 is = 120\n"
     ]
    }
   ],
   "source": [
    "# Find the factorial of the any number\n",
    "Number = int(input(\"Enter the number to find the factorial: \"))\n",
    "\n",
    "factorial = 1  # Initialize factorial variable\n",
    "\n",
    "for i in range(1, Number + 1):  # Loop from 1 to Number (inclusive)\n",
    "    factorial *= i  # Multiply factorial by i in each iteration\n",
    "\n",
    "print(\"Factorial of\", Number, \"is =\", factorial)  # Print final result\n"
   ]
  },
  {
   "cell_type": "code",
   "execution_count": 21,
   "id": "a1178e7c",
   "metadata": {},
   "outputs": [
    {
     "name": "stdout",
     "output_type": "stream",
     "text": [
      "Enter the number: 121\n",
      "Palindrone\n"
     ]
    }
   ],
   "source": [
    "# Palindrone Number using while loop\n",
    "\n",
    "num = int(input(\"Enter the number: \"))\n",
    "num_copy = num\n",
    "rev = 0\n",
    "while num != 0:\n",
    "    digit = num % 10\n",
    "    rev = rev * 10 + digit\n",
    "    num = num // 10\n",
    "if num_copy == rev:\n",
    "    print(\"Palindrone\")\n",
    "else:\n",
    "    print(\"Not Palindrone\")"
   ]
  },
  {
   "cell_type": "code",
   "execution_count": null,
   "id": "cd5e367e",
   "metadata": {},
   "outputs": [],
   "source": []
  }
 ],
 "metadata": {
  "kernelspec": {
   "display_name": "Python 3 (ipykernel)",
   "language": "python",
   "name": "python3"
  },
  "language_info": {
   "codemirror_mode": {
    "name": "ipython",
    "version": 3
   },
   "file_extension": ".py",
   "mimetype": "text/x-python",
   "name": "python",
   "nbconvert_exporter": "python",
   "pygments_lexer": "ipython3",
   "version": "3.11.5"
  }
 },
 "nbformat": 4,
 "nbformat_minor": 5
}
