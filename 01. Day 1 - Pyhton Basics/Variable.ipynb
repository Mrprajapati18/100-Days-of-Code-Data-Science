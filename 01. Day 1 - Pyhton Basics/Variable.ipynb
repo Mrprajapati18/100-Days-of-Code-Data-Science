{
 "cells": [
  {
   "cell_type": "markdown",
   "id": "b57a9f04",
   "metadata": {},
   "source": [
    "# Variable"
   ]
  },
  {
   "cell_type": "code",
   "execution_count": 1,
   "id": "44c4e376",
   "metadata": {},
   "outputs": [
    {
     "name": "stdout",
     "output_type": "stream",
     "text": [
      "Hello\n"
     ]
    }
   ],
   "source": [
    "print(\"Hello\")"
   ]
  },
  {
   "cell_type": "code",
   "execution_count": 2,
   "id": "736f18e4",
   "metadata": {},
   "outputs": [],
   "source": [
    "a = 10"
   ]
  },
  {
   "cell_type": "code",
   "execution_count": 3,
   "id": "96b03776",
   "metadata": {},
   "outputs": [
    {
     "data": {
      "text/plain": [
       "10"
      ]
     },
     "execution_count": 3,
     "metadata": {},
     "output_type": "execute_result"
    }
   ],
   "source": [
    "a"
   ]
  },
  {
   "cell_type": "code",
   "execution_count": 4,
   "id": "44964518",
   "metadata": {},
   "outputs": [
    {
     "data": {
      "text/plain": [
       "int"
      ]
     },
     "execution_count": 4,
     "metadata": {},
     "output_type": "execute_result"
    }
   ],
   "source": [
    "type(a)"
   ]
  },
  {
   "cell_type": "code",
   "execution_count": 5,
   "id": "0fe96c8a",
   "metadata": {},
   "outputs": [],
   "source": [
    "b = 10.83"
   ]
  },
  {
   "cell_type": "code",
   "execution_count": 6,
   "id": "847e5051",
   "metadata": {},
   "outputs": [
    {
     "name": "stdout",
     "output_type": "stream",
     "text": [
      "10.83\n"
     ]
    }
   ],
   "source": [
    "print(b)"
   ]
  },
  {
   "cell_type": "code",
   "execution_count": 7,
   "id": "26c0b938",
   "metadata": {},
   "outputs": [
    {
     "data": {
      "text/plain": [
       "float"
      ]
     },
     "execution_count": 7,
     "metadata": {},
     "output_type": "execute_result"
    }
   ],
   "source": [
    "type(b)"
   ]
  },
  {
   "cell_type": "code",
   "execution_count": 8,
   "id": "07f12b81",
   "metadata": {},
   "outputs": [],
   "source": [
    "c = \"Durgesh_Kumar_Prajapati\""
   ]
  },
  {
   "cell_type": "code",
   "execution_count": 9,
   "id": "6f8f6e5c",
   "metadata": {},
   "outputs": [
    {
     "data": {
      "text/plain": [
       "'Durgesh_Kumar_Prajapati'"
      ]
     },
     "execution_count": 9,
     "metadata": {},
     "output_type": "execute_result"
    }
   ],
   "source": [
    "c"
   ]
  },
  {
   "cell_type": "code",
   "execution_count": 10,
   "id": "c7a608b7",
   "metadata": {},
   "outputs": [
    {
     "data": {
      "text/plain": [
       "str"
      ]
     },
     "execution_count": 10,
     "metadata": {},
     "output_type": "execute_result"
    }
   ],
   "source": [
    "type(c)"
   ]
  },
  {
   "cell_type": "code",
   "execution_count": 11,
   "id": "24f671b7",
   "metadata": {},
   "outputs": [
    {
     "name": "stdout",
     "output_type": "stream",
     "text": [
      "10 10.83 Durgesh_Kumar_Prajapati\n"
     ]
    }
   ],
   "source": [
    "print(a,b,c)"
   ]
  },
  {
   "cell_type": "code",
   "execution_count": 12,
   "id": "1f2bfe66",
   "metadata": {},
   "outputs": [
    {
     "name": "stdout",
     "output_type": "stream",
     "text": [
      "a =  10 b =  10.83 c =  Durgesh_Kumar_Prajapati\n"
     ]
    }
   ],
   "source": [
    "print(\"a = \",a,\"b = \",b,\"c = \",c)"
   ]
  },
  {
   "cell_type": "code",
   "execution_count": 13,
   "id": "d3292b28",
   "metadata": {},
   "outputs": [],
   "source": [
    "import keyword"
   ]
  },
  {
   "cell_type": "code",
   "execution_count": 14,
   "id": "327df2da",
   "metadata": {},
   "outputs": [
    {
     "name": "stdout",
     "output_type": "stream",
     "text": [
      "['False', 'None', 'True', 'and', 'as', 'assert', 'async', 'await', 'break', 'class', 'continue', 'def', 'del', 'elif', 'else', 'except', 'finally', 'for', 'from', 'global', 'if', 'import', 'in', 'is', 'lambda', 'nonlocal', 'not', 'or', 'pass', 'raise', 'return', 'try', 'while', 'with', 'yield']\n"
     ]
    }
   ],
   "source": [
    "print(keyword.kwlist)"
   ]
  },
  {
   "cell_type": "markdown",
   "id": "bc9e9679",
   "metadata": {},
   "source": [
    "# Indexing"
   ]
  },
  {
   "cell_type": "code",
   "execution_count": 15,
   "id": "127bdce1",
   "metadata": {},
   "outputs": [],
   "source": [
    "string = \"hi how are you\"\n",
    "          "
   ]
  },
  {
   "cell_type": "code",
   "execution_count": 16,
   "id": "8352d34b",
   "metadata": {},
   "outputs": [
    {
     "name": "stdout",
     "output_type": "stream",
     "text": [
      "hi how are you\n"
     ]
    }
   ],
   "source": [
    "print(string)"
   ]
  },
  {
   "cell_type": "code",
   "execution_count": 17,
   "id": "a8dacc8f",
   "metadata": {},
   "outputs": [
    {
     "data": {
      "text/plain": [
       "' '"
      ]
     },
     "execution_count": 17,
     "metadata": {},
     "output_type": "execute_result"
    }
   ],
   "source": [
    "string[10]"
   ]
  },
  {
   "cell_type": "code",
   "execution_count": 18,
   "id": "fce64075",
   "metadata": {},
   "outputs": [
    {
     "data": {
      "text/plain": [
       "'y'"
      ]
     },
     "execution_count": 18,
     "metadata": {},
     "output_type": "execute_result"
    }
   ],
   "source": [
    "string[11]"
   ]
  },
  {
   "cell_type": "code",
   "execution_count": 19,
   "id": "5b0f572b",
   "metadata": {},
   "outputs": [
    {
     "data": {
      "text/plain": [
       "'o'"
      ]
     },
     "execution_count": 19,
     "metadata": {},
     "output_type": "execute_result"
    }
   ],
   "source": [
    "string[-2]"
   ]
  },
  {
   "cell_type": "raw",
   "id": "f8f6e543",
   "metadata": {},
   "source": [
    "mutable - if you are able to change the content\n",
    "\n",
    "immutable - if you are not able to change the content"
   ]
  },
  {
   "cell_type": "markdown",
   "id": "8f1a4ec5",
   "metadata": {},
   "source": [
    "# Slicing"
   ]
  },
  {
   "cell_type": "code",
   "execution_count": 20,
   "id": "e1d27fb5",
   "metadata": {},
   "outputs": [
    {
     "data": {
      "text/plain": [
       "'hi how are you'"
      ]
     },
     "execution_count": 20,
     "metadata": {},
     "output_type": "execute_result"
    }
   ],
   "source": [
    "string"
   ]
  },
  {
   "cell_type": "code",
   "execution_count": 21,
   "id": "cc51dbd4",
   "metadata": {},
   "outputs": [
    {
     "data": {
      "text/plain": [
       "'how are you'"
      ]
     },
     "execution_count": 21,
     "metadata": {},
     "output_type": "execute_result"
    }
   ],
   "source": [
    "string[3:]"
   ]
  },
  {
   "cell_type": "code",
   "execution_count": 22,
   "id": "8d833039",
   "metadata": {},
   "outputs": [
    {
     "data": {
      "text/plain": [
       "'how are'"
      ]
     },
     "execution_count": 22,
     "metadata": {},
     "output_type": "execute_result"
    }
   ],
   "source": [
    "string[3:10]"
   ]
  },
  {
   "cell_type": "code",
   "execution_count": 23,
   "id": "a33d831e",
   "metadata": {},
   "outputs": [
    {
     "data": {
      "text/plain": [
       "['__add__',\n",
       " '__class__',\n",
       " '__contains__',\n",
       " '__delattr__',\n",
       " '__dir__',\n",
       " '__doc__',\n",
       " '__eq__',\n",
       " '__format__',\n",
       " '__ge__',\n",
       " '__getattribute__',\n",
       " '__getitem__',\n",
       " '__getnewargs__',\n",
       " '__getstate__',\n",
       " '__gt__',\n",
       " '__hash__',\n",
       " '__init__',\n",
       " '__init_subclass__',\n",
       " '__iter__',\n",
       " '__le__',\n",
       " '__len__',\n",
       " '__lt__',\n",
       " '__mod__',\n",
       " '__mul__',\n",
       " '__ne__',\n",
       " '__new__',\n",
       " '__reduce__',\n",
       " '__reduce_ex__',\n",
       " '__repr__',\n",
       " '__rmod__',\n",
       " '__rmul__',\n",
       " '__setattr__',\n",
       " '__sizeof__',\n",
       " '__str__',\n",
       " '__subclasshook__',\n",
       " 'capitalize',\n",
       " 'casefold',\n",
       " 'center',\n",
       " 'count',\n",
       " 'encode',\n",
       " 'endswith',\n",
       " 'expandtabs',\n",
       " 'find',\n",
       " 'format',\n",
       " 'format_map',\n",
       " 'index',\n",
       " 'isalnum',\n",
       " 'isalpha',\n",
       " 'isascii',\n",
       " 'isdecimal',\n",
       " 'isdigit',\n",
       " 'isidentifier',\n",
       " 'islower',\n",
       " 'isnumeric',\n",
       " 'isprintable',\n",
       " 'isspace',\n",
       " 'istitle',\n",
       " 'isupper',\n",
       " 'join',\n",
       " 'ljust',\n",
       " 'lower',\n",
       " 'lstrip',\n",
       " 'maketrans',\n",
       " 'partition',\n",
       " 'removeprefix',\n",
       " 'removesuffix',\n",
       " 'replace',\n",
       " 'rfind',\n",
       " 'rindex',\n",
       " 'rjust',\n",
       " 'rpartition',\n",
       " 'rsplit',\n",
       " 'rstrip',\n",
       " 'split',\n",
       " 'splitlines',\n",
       " 'startswith',\n",
       " 'strip',\n",
       " 'swapcase',\n",
       " 'title',\n",
       " 'translate',\n",
       " 'upper',\n",
       " 'zfill']"
      ]
     },
     "execution_count": 23,
     "metadata": {},
     "output_type": "execute_result"
    }
   ],
   "source": [
    "dir(string)"
   ]
  },
  {
   "cell_type": "markdown",
   "id": "87d29e2c",
   "metadata": {},
   "source": [
    "# List"
   ]
  },
  {
   "cell_type": "code",
   "execution_count": 24,
   "id": "a6b65caa",
   "metadata": {},
   "outputs": [],
   "source": [
    "p = [1,2,3.6,\"Durgesh\",\"Smartbridge\"]\n",
    "\n",
    "# list is changable(mutable) and store the different type of data and it is hyderogenious\n",
    "# list is ordered"
   ]
  },
  {
   "cell_type": "code",
   "execution_count": 25,
   "id": "ee71b7f3",
   "metadata": {},
   "outputs": [
    {
     "data": {
      "text/plain": [
       "[1, 2, 3.6, 'Durgesh', 'Smartbridge']"
      ]
     },
     "execution_count": 25,
     "metadata": {},
     "output_type": "execute_result"
    }
   ],
   "source": [
    "p"
   ]
  },
  {
   "cell_type": "code",
   "execution_count": 26,
   "id": "a92e0afd",
   "metadata": {},
   "outputs": [
    {
     "data": {
      "text/plain": [
       "list"
      ]
     },
     "execution_count": 26,
     "metadata": {},
     "output_type": "execute_result"
    }
   ],
   "source": [
    "type(p)"
   ]
  },
  {
   "cell_type": "code",
   "execution_count": 27,
   "id": "e81ad94e",
   "metadata": {},
   "outputs": [
    {
     "data": {
      "text/plain": [
       "'Durgesh'"
      ]
     },
     "execution_count": 27,
     "metadata": {},
     "output_type": "execute_result"
    }
   ],
   "source": [
    "p[3]"
   ]
  },
  {
   "cell_type": "code",
   "execution_count": 28,
   "id": "5b6848a6",
   "metadata": {},
   "outputs": [
    {
     "data": {
      "text/plain": [
       "str"
      ]
     },
     "execution_count": 28,
     "metadata": {},
     "output_type": "execute_result"
    }
   ],
   "source": [
    "type(p[3])"
   ]
  },
  {
   "cell_type": "code",
   "execution_count": 29,
   "id": "ca2345bc",
   "metadata": {},
   "outputs": [
    {
     "data": {
      "text/plain": [
       "5"
      ]
     },
     "execution_count": 29,
     "metadata": {},
     "output_type": "execute_result"
    }
   ],
   "source": [
    "len(p)"
   ]
  },
  {
   "cell_type": "code",
   "execution_count": 30,
   "id": "2f81f2c2",
   "metadata": {},
   "outputs": [],
   "source": [
    "p.append(9)"
   ]
  },
  {
   "cell_type": "code",
   "execution_count": 31,
   "id": "924a91bd",
   "metadata": {},
   "outputs": [
    {
     "data": {
      "text/plain": [
       "[1, 2, 3.6, 'Durgesh', 'Smartbridge', 9]"
      ]
     },
     "execution_count": 31,
     "metadata": {},
     "output_type": "execute_result"
    }
   ],
   "source": [
    "p"
   ]
  },
  {
   "cell_type": "code",
   "execution_count": 32,
   "id": "f5f38d6a",
   "metadata": {},
   "outputs": [],
   "source": [
    "p.insert(4,\"internz\") # list is ordered"
   ]
  },
  {
   "cell_type": "code",
   "execution_count": 33,
   "id": "421402e5",
   "metadata": {},
   "outputs": [
    {
     "data": {
      "text/plain": [
       "[1, 2, 3.6, 'Durgesh', 'internz', 'Smartbridge', 9]"
      ]
     },
     "execution_count": 33,
     "metadata": {},
     "output_type": "execute_result"
    }
   ],
   "source": [
    "p"
   ]
  },
  {
   "cell_type": "code",
   "execution_count": 34,
   "id": "5c98bf46",
   "metadata": {},
   "outputs": [
    {
     "data": {
      "text/plain": [
       "7"
      ]
     },
     "execution_count": 34,
     "metadata": {},
     "output_type": "execute_result"
    }
   ],
   "source": [
    "len(p) # lenght of String"
   ]
  },
  {
   "cell_type": "code",
   "execution_count": 35,
   "id": "50c0f5c5",
   "metadata": {},
   "outputs": [],
   "source": [
    "p.append(\"Durgesh\") # List  allow duplicate"
   ]
  },
  {
   "cell_type": "code",
   "execution_count": 36,
   "id": "00cd8b1b",
   "metadata": {},
   "outputs": [
    {
     "data": {
      "text/plain": [
       "[1, 2, 3.6, 'Durgesh', 'internz', 'Smartbridge', 9, 'Durgesh']"
      ]
     },
     "execution_count": 36,
     "metadata": {},
     "output_type": "execute_result"
    }
   ],
   "source": [
    "p"
   ]
  },
  {
   "cell_type": "code",
   "execution_count": 37,
   "id": "c73bd313",
   "metadata": {},
   "outputs": [],
   "source": [
    "p.remove(p[3]) # Remove specifice element using index number"
   ]
  },
  {
   "cell_type": "code",
   "execution_count": 38,
   "id": "7495a8d2",
   "metadata": {},
   "outputs": [
    {
     "data": {
      "text/plain": [
       "[1, 2, 3.6, 'internz', 'Smartbridge', 9, 'Durgesh']"
      ]
     },
     "execution_count": 38,
     "metadata": {},
     "output_type": "execute_result"
    }
   ],
   "source": [
    "p"
   ]
  },
  {
   "cell_type": "code",
   "execution_count": 39,
   "id": "55edeab4",
   "metadata": {},
   "outputs": [],
   "source": [
    "p.remove(\"Durgesh\") # Remove the specific element by using name of the element"
   ]
  },
  {
   "cell_type": "code",
   "execution_count": 40,
   "id": "8370fe8e",
   "metadata": {},
   "outputs": [
    {
     "data": {
      "text/plain": [
       "[1, 2, 3.6, 'internz', 'Smartbridge', 9]"
      ]
     },
     "execution_count": 40,
     "metadata": {},
     "output_type": "execute_result"
    }
   ],
   "source": [
    "p"
   ]
  },
  {
   "cell_type": "markdown",
   "id": "aa433001",
   "metadata": {},
   "source": [
    "# Tuple"
   ]
  },
  {
   "cell_type": "raw",
   "id": "608e8a66",
   "metadata": {},
   "source": [
    "tuple is immutable it allow floading, it allow duplicate, it is round bracket()"
   ]
  },
  {
   "cell_type": "code",
   "execution_count": 41,
   "id": "2dbd7294",
   "metadata": {},
   "outputs": [],
   "source": [
    "t = (1,3,4.5,\"Smartbridge\")"
   ]
  },
  {
   "cell_type": "code",
   "execution_count": 42,
   "id": "866a30fc",
   "metadata": {},
   "outputs": [
    {
     "data": {
      "text/plain": [
       "(1, 3, 4.5, 'Smartbridge')"
      ]
     },
     "execution_count": 42,
     "metadata": {},
     "output_type": "execute_result"
    }
   ],
   "source": [
    "t"
   ]
  },
  {
   "cell_type": "code",
   "execution_count": 43,
   "id": "57fb27f2",
   "metadata": {},
   "outputs": [
    {
     "data": {
      "text/plain": [
       "tuple"
      ]
     },
     "execution_count": 43,
     "metadata": {},
     "output_type": "execute_result"
    }
   ],
   "source": [
    "type(t)"
   ]
  },
  {
   "cell_type": "code",
   "execution_count": 44,
   "id": "05b84c98",
   "metadata": {},
   "outputs": [
    {
     "data": {
      "text/plain": [
       "['__add__',\n",
       " '__class__',\n",
       " '__class_getitem__',\n",
       " '__contains__',\n",
       " '__delattr__',\n",
       " '__dir__',\n",
       " '__doc__',\n",
       " '__eq__',\n",
       " '__format__',\n",
       " '__ge__',\n",
       " '__getattribute__',\n",
       " '__getitem__',\n",
       " '__getnewargs__',\n",
       " '__getstate__',\n",
       " '__gt__',\n",
       " '__hash__',\n",
       " '__init__',\n",
       " '__init_subclass__',\n",
       " '__iter__',\n",
       " '__le__',\n",
       " '__len__',\n",
       " '__lt__',\n",
       " '__mul__',\n",
       " '__ne__',\n",
       " '__new__',\n",
       " '__reduce__',\n",
       " '__reduce_ex__',\n",
       " '__repr__',\n",
       " '__rmul__',\n",
       " '__setattr__',\n",
       " '__sizeof__',\n",
       " '__str__',\n",
       " '__subclasshook__',\n",
       " 'count',\n",
       " 'index']"
      ]
     },
     "execution_count": 44,
     "metadata": {},
     "output_type": "execute_result"
    }
   ],
   "source": [
    "dir(t)"
   ]
  },
  {
   "cell_type": "code",
   "execution_count": 45,
   "id": "2a3476fd",
   "metadata": {},
   "outputs": [
    {
     "data": {
      "text/plain": [
       "4.5"
      ]
     },
     "execution_count": 45,
     "metadata": {},
     "output_type": "execute_result"
    }
   ],
   "source": [
    "t[2]"
   ]
  },
  {
   "cell_type": "code",
   "execution_count": 46,
   "id": "3633d17a",
   "metadata": {},
   "outputs": [
    {
     "data": {
      "text/plain": [
       "(3, 4.5, 'Smartbridge')"
      ]
     },
     "execution_count": 46,
     "metadata": {},
     "output_type": "execute_result"
    }
   ],
   "source": [
    "t[1:4]"
   ]
  },
  {
   "cell_type": "code",
   "execution_count": 47,
   "id": "870fbb8f",
   "metadata": {},
   "outputs": [],
   "source": [
    "a = list[t] # tuple convert to a list"
   ]
  },
  {
   "cell_type": "code",
   "execution_count": 48,
   "id": "621ad49a",
   "metadata": {},
   "outputs": [
    {
     "data": {
      "text/plain": [
       "list[1, 3, 4.5, 'Smartbridge']"
      ]
     },
     "execution_count": 48,
     "metadata": {},
     "output_type": "execute_result"
    }
   ],
   "source": [
    "a"
   ]
  },
  {
   "cell_type": "code",
   "execution_count": 49,
   "id": "6adca729",
   "metadata": {},
   "outputs": [],
   "source": [
    "# tuple are ordered,slicing,indexing can be done,hytrogenous and immutable"
   ]
  },
  {
   "cell_type": "markdown",
   "id": "5f2b0a5e",
   "metadata": {},
   "source": [
    "# Dictionary"
   ]
  },
  {
   "cell_type": "code",
   "execution_count": 50,
   "id": "abecde6b",
   "metadata": {},
   "outputs": [],
   "source": [
    "# Dictionary have key values pair and allow curly bracket\n",
    "\n",
    "Cricket = {\"Captain\" : \"Virat\", \"Keeper\" : \"Dhoni\", \"Bowler\" : \"Jusprit\"}"
   ]
  },
  {
   "cell_type": "code",
   "execution_count": 51,
   "id": "2c01cca0",
   "metadata": {},
   "outputs": [
    {
     "data": {
      "text/plain": [
       "{'Captain': 'Virat', 'Keeper': 'Dhoni', 'Bowler': 'Jusprit'}"
      ]
     },
     "execution_count": 51,
     "metadata": {},
     "output_type": "execute_result"
    }
   ],
   "source": [
    "Cricket"
   ]
  },
  {
   "cell_type": "code",
   "execution_count": 52,
   "id": "2c19620d",
   "metadata": {},
   "outputs": [
    {
     "data": {
      "text/plain": [
       "dict"
      ]
     },
     "execution_count": 52,
     "metadata": {},
     "output_type": "execute_result"
    }
   ],
   "source": [
    "type(Cricket)"
   ]
  },
  {
   "cell_type": "code",
   "execution_count": 53,
   "id": "640f1f16",
   "metadata": {},
   "outputs": [
    {
     "data": {
      "text/plain": [
       "'Jusprit'"
      ]
     },
     "execution_count": 53,
     "metadata": {},
     "output_type": "execute_result"
    }
   ],
   "source": [
    "Cricket[\"Bowler\"]"
   ]
  },
  {
   "cell_type": "code",
   "execution_count": 54,
   "id": "8d9519fe",
   "metadata": {},
   "outputs": [
    {
     "data": {
      "text/plain": [
       "['__class__',\n",
       " '__class_getitem__',\n",
       " '__contains__',\n",
       " '__delattr__',\n",
       " '__delitem__',\n",
       " '__dir__',\n",
       " '__doc__',\n",
       " '__eq__',\n",
       " '__format__',\n",
       " '__ge__',\n",
       " '__getattribute__',\n",
       " '__getitem__',\n",
       " '__getstate__',\n",
       " '__gt__',\n",
       " '__hash__',\n",
       " '__init__',\n",
       " '__init_subclass__',\n",
       " '__ior__',\n",
       " '__iter__',\n",
       " '__le__',\n",
       " '__len__',\n",
       " '__lt__',\n",
       " '__ne__',\n",
       " '__new__',\n",
       " '__or__',\n",
       " '__reduce__',\n",
       " '__reduce_ex__',\n",
       " '__repr__',\n",
       " '__reversed__',\n",
       " '__ror__',\n",
       " '__setattr__',\n",
       " '__setitem__',\n",
       " '__sizeof__',\n",
       " '__str__',\n",
       " '__subclasshook__',\n",
       " 'clear',\n",
       " 'copy',\n",
       " 'fromkeys',\n",
       " 'get',\n",
       " 'items',\n",
       " 'keys',\n",
       " 'pop',\n",
       " 'popitem',\n",
       " 'setdefault',\n",
       " 'update',\n",
       " 'values']"
      ]
     },
     "execution_count": 54,
     "metadata": {},
     "output_type": "execute_result"
    }
   ],
   "source": [
    "dir(Cricket)"
   ]
  },
  {
   "cell_type": "code",
   "execution_count": 56,
   "id": "95e0c244",
   "metadata": {},
   "outputs": [
    {
     "data": {
      "text/plain": [
       "dict_keys(['Captain', 'Keeper', 'Bowler'])"
      ]
     },
     "execution_count": 56,
     "metadata": {},
     "output_type": "execute_result"
    }
   ],
   "source": [
    "Cricket.keys()"
   ]
  },
  {
   "cell_type": "code",
   "execution_count": 57,
   "id": "352954a6",
   "metadata": {},
   "outputs": [
    {
     "data": {
      "text/plain": [
       "dict_values(['Virat', 'Dhoni', 'Jusprit'])"
      ]
     },
     "execution_count": 57,
     "metadata": {},
     "output_type": "execute_result"
    }
   ],
   "source": [
    "Cricket.values()"
   ]
  },
  {
   "cell_type": "code",
   "execution_count": 60,
   "id": "8220725a",
   "metadata": {},
   "outputs": [
    {
     "data": {
      "text/plain": [
       "dict_items([('Captain', 'Virat'), ('Keeper', 'Dhoni'), ('Bowler', 'Jusprit')])"
      ]
     },
     "execution_count": 60,
     "metadata": {},
     "output_type": "execute_result"
    }
   ],
   "source": [
    "Cricket.items()"
   ]
  },
  {
   "cell_type": "markdown",
   "id": "8a2fa564",
   "metadata": {},
   "source": [
    "# Sets"
   ]
  },
  {
   "cell_type": "code",
   "execution_count": 62,
   "id": "70c52111",
   "metadata": {},
   "outputs": [],
   "source": [
    "s = {1,2,3,5}"
   ]
  },
  {
   "cell_type": "code",
   "execution_count": 63,
   "id": "0d24daf7",
   "metadata": {},
   "outputs": [
    {
     "data": {
      "text/plain": [
       "{1, 2, 3, 5}"
      ]
     },
     "execution_count": 63,
     "metadata": {},
     "output_type": "execute_result"
    }
   ],
   "source": [
    "s"
   ]
  },
  {
   "cell_type": "code",
   "execution_count": 64,
   "id": "fc71ac75",
   "metadata": {},
   "outputs": [],
   "source": [
    "s = {1,2,2,3,3} # hetrogenius"
   ]
  },
  {
   "cell_type": "code",
   "execution_count": 65,
   "id": "9f0bd7d6",
   "metadata": {},
   "outputs": [
    {
     "data": {
      "text/plain": [
       "{1, 2, 3}"
      ]
     },
     "execution_count": 65,
     "metadata": {},
     "output_type": "execute_result"
    }
   ],
   "source": [
    "s"
   ]
  },
  {
   "cell_type": "code",
   "execution_count": 67,
   "id": "256af27a",
   "metadata": {},
   "outputs": [],
   "source": [
    "s.add(\"VIT\")"
   ]
  },
  {
   "cell_type": "code",
   "execution_count": 68,
   "id": "86803338",
   "metadata": {},
   "outputs": [
    {
     "data": {
      "text/plain": [
       "{1, 2, 3, 'VIT'}"
      ]
     },
     "execution_count": 68,
     "metadata": {},
     "output_type": "execute_result"
    }
   ],
   "source": [
    "s"
   ]
  },
  {
   "cell_type": "code",
   "execution_count": 73,
   "id": "010cd8ac",
   "metadata": {},
   "outputs": [],
   "source": [
    "my_set = {1,3,5,6}\n",
    "my_set.remove(5)"
   ]
  },
  {
   "cell_type": "code",
   "execution_count": 75,
   "id": "d20a426c",
   "metadata": {},
   "outputs": [
    {
     "data": {
      "text/plain": [
       "{1, 3, 6}"
      ]
     },
     "execution_count": 75,
     "metadata": {},
     "output_type": "execute_result"
    }
   ],
   "source": [
    "my_set"
   ]
  },
  {
   "cell_type": "code",
   "execution_count": 76,
   "id": "f232a7cf",
   "metadata": {},
   "outputs": [
    {
     "data": {
      "text/plain": [
       "['__and__',\n",
       " '__class__',\n",
       " '__class_getitem__',\n",
       " '__contains__',\n",
       " '__delattr__',\n",
       " '__dir__',\n",
       " '__doc__',\n",
       " '__eq__',\n",
       " '__format__',\n",
       " '__ge__',\n",
       " '__getattribute__',\n",
       " '__getstate__',\n",
       " '__gt__',\n",
       " '__hash__',\n",
       " '__iand__',\n",
       " '__init__',\n",
       " '__init_subclass__',\n",
       " '__ior__',\n",
       " '__isub__',\n",
       " '__iter__',\n",
       " '__ixor__',\n",
       " '__le__',\n",
       " '__len__',\n",
       " '__lt__',\n",
       " '__ne__',\n",
       " '__new__',\n",
       " '__or__',\n",
       " '__rand__',\n",
       " '__reduce__',\n",
       " '__reduce_ex__',\n",
       " '__repr__',\n",
       " '__ror__',\n",
       " '__rsub__',\n",
       " '__rxor__',\n",
       " '__setattr__',\n",
       " '__sizeof__',\n",
       " '__str__',\n",
       " '__sub__',\n",
       " '__subclasshook__',\n",
       " '__xor__',\n",
       " 'add',\n",
       " 'clear',\n",
       " 'copy',\n",
       " 'difference',\n",
       " 'difference_update',\n",
       " 'discard',\n",
       " 'intersection',\n",
       " 'intersection_update',\n",
       " 'isdisjoint',\n",
       " 'issubset',\n",
       " 'issuperset',\n",
       " 'pop',\n",
       " 'remove',\n",
       " 'symmetric_difference',\n",
       " 'symmetric_difference_update',\n",
       " 'union',\n",
       " 'update']"
      ]
     },
     "execution_count": 76,
     "metadata": {},
     "output_type": "execute_result"
    }
   ],
   "source": [
    "dir(set)"
   ]
  },
  {
   "cell_type": "code",
   "execution_count": 77,
   "id": "1197fde5",
   "metadata": {},
   "outputs": [
    {
     "data": {
      "text/plain": [
       "1"
      ]
     },
     "execution_count": 77,
     "metadata": {},
     "output_type": "execute_result"
    }
   ],
   "source": [
    "my_set.pop()"
   ]
  },
  {
   "cell_type": "code",
   "execution_count": 78,
   "id": "a48cd217",
   "metadata": {},
   "outputs": [],
   "source": [
    "my_set.discard(6)"
   ]
  },
  {
   "cell_type": "code",
   "execution_count": 80,
   "id": "50328f64",
   "metadata": {},
   "outputs": [
    {
     "data": {
      "text/plain": [
       "{3}"
      ]
     },
     "execution_count": 80,
     "metadata": {},
     "output_type": "execute_result"
    }
   ],
   "source": [
    "my_set"
   ]
  },
  {
   "cell_type": "code",
   "execution_count": 83,
   "id": "cea8f7b8",
   "metadata": {},
   "outputs": [],
   "source": [
    "a = {1,2,3,5,6}\n",
    "b = {5,6,8,9,10}\n",
    "c = a.union(b)"
   ]
  },
  {
   "cell_type": "code",
   "execution_count": 84,
   "id": "5558b44f",
   "metadata": {},
   "outputs": [
    {
     "data": {
      "text/plain": [
       "{1, 2, 3, 5, 6, 8, 9, 10}"
      ]
     },
     "execution_count": 84,
     "metadata": {},
     "output_type": "execute_result"
    }
   ],
   "source": [
    "c"
   ]
  },
  {
   "cell_type": "code",
   "execution_count": 85,
   "id": "f8b6f85a",
   "metadata": {},
   "outputs": [],
   "source": [
    "d = a.intersection(b)"
   ]
  },
  {
   "cell_type": "code",
   "execution_count": 86,
   "id": "52744134",
   "metadata": {},
   "outputs": [
    {
     "data": {
      "text/plain": [
       "{5, 6}"
      ]
     },
     "execution_count": 86,
     "metadata": {},
     "output_type": "execute_result"
    }
   ],
   "source": [
    "d"
   ]
  },
  {
   "cell_type": "code",
   "execution_count": 87,
   "id": "e8dbf445",
   "metadata": {},
   "outputs": [],
   "source": [
    "d.clear()"
   ]
  },
  {
   "cell_type": "code",
   "execution_count": 88,
   "id": "3d0ade2e",
   "metadata": {},
   "outputs": [
    {
     "data": {
      "text/plain": [
       "set()"
      ]
     },
     "execution_count": 88,
     "metadata": {},
     "output_type": "execute_result"
    }
   ],
   "source": [
    "d"
   ]
  },
  {
   "cell_type": "code",
   "execution_count": null,
   "id": "639ad352",
   "metadata": {},
   "outputs": [],
   "source": []
  }
 ],
 "metadata": {
  "kernelspec": {
   "display_name": "Python 3 (ipykernel)",
   "language": "python",
   "name": "python3"
  },
  "language_info": {
   "codemirror_mode": {
    "name": "ipython",
    "version": 3
   },
   "file_extension": ".py",
   "mimetype": "text/x-python",
   "name": "python",
   "nbconvert_exporter": "python",
   "pygments_lexer": "ipython3",
   "version": "3.11.5"
  }
 },
 "nbformat": 4,
 "nbformat_minor": 5
}
