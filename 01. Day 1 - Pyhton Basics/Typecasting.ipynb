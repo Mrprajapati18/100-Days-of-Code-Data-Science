{
 "cells": [
  {
   "cell_type": "markdown",
   "id": "3588d639",
   "metadata": {},
   "source": [
    "# Type Casting"
   ]
  },
  {
   "cell_type": "code",
   "execution_count": 11,
   "id": "e32cbe2e",
   "metadata": {},
   "outputs": [],
   "source": [
    "# Typecasting with : int()\n",
    "\n",
    "a = 50\n",
    "b = 7.90\n",
    "c = \"50.55\"\n",
    "d = \"59\"\n",
    "e = \"Hello\"\n",
    "f = \"\"\n",
    "g = True\n",
    "h = False"
   ]
  },
  {
   "cell_type": "code",
   "execution_count": 12,
   "id": "6fc8b6aa",
   "metadata": {},
   "outputs": [
    {
     "name": "stdout",
     "output_type": "stream",
     "text": [
      "50\n",
      "7\n",
      "59\n",
      "1\n",
      "0\n"
     ]
    }
   ],
   "source": [
    "print(int(a))\n",
    "print(int(b))\n",
    "#print(int(c)) # float String data type are not convert to int data type\n",
    "print(int(d))\n",
    "#print(int(e)) # String data type are not convert to int data type\n",
    "#print(int(f)) # Empty is not convert to int data type\n",
    "print(int(g))  # Boolean values is converted in 0 or 1\n",
    "print(int(h))"
   ]
  },
  {
   "cell_type": "code",
   "execution_count": 16,
   "id": "5bd1723a",
   "metadata": {},
   "outputs": [
    {
     "name": "stdout",
     "output_type": "stream",
     "text": [
      "50.0\n",
      "7.9\n",
      "50.55\n",
      "59.0\n",
      "1.0\n",
      "0.0\n"
     ]
    }
   ],
   "source": [
    "# Typecasting with : float()\n",
    "print(float(a))\n",
    "print(float(b))\n",
    "print(float(c))\n",
    "print(float(d))\n",
    "#print(float(e)) # String data type not convert to float data type\n",
    "#print(float(f)) # Empaty data type not convert to float data type\n",
    "print(float(g))\n",
    "print(float(h))"
   ]
  },
  {
   "cell_type": "code",
   "execution_count": 17,
   "id": "a12e1064",
   "metadata": {},
   "outputs": [
    {
     "name": "stdout",
     "output_type": "stream",
     "text": [
      "50\n",
      "7.9\n",
      "50.55\n",
      "59\n",
      "Hello\n",
      "\n",
      "True\n",
      "False\n"
     ]
    }
   ],
   "source": [
    "# Typecasting with : String()\n",
    "print(str(a))\n",
    "print(str(b))\n",
    "print(str(c))\n",
    "print(str(d))\n",
    "print(str(e)) \n",
    "print(str(f)) \n",
    "print(str(g))\n",
    "print(str(h))"
   ]
  },
  {
   "cell_type": "code",
   "execution_count": 18,
   "id": "200f9bc0",
   "metadata": {},
   "outputs": [
    {
     "name": "stdout",
     "output_type": "stream",
     "text": [
      "True\n",
      "True\n",
      "True\n",
      "True\n",
      "True\n",
      "False\n",
      "True\n",
      "False\n"
     ]
    }
   ],
   "source": [
    "# Typecasting with : Boolean()\n",
    "print(bool(a))\n",
    "print(bool(b))\n",
    "print(bool(c))\n",
    "print(bool(d))\n",
    "print(bool(e)) \n",
    "print(bool(f)) \n",
    "print(bool(g))\n",
    "print(bool(h))"
   ]
  },
  {
   "cell_type": "code",
   "execution_count": null,
   "id": "ef7ed3c3",
   "metadata": {},
   "outputs": [],
   "source": []
  }
 ],
 "metadata": {
  "kernelspec": {
   "display_name": "Python 3 (ipykernel)",
   "language": "python",
   "name": "python3"
  },
  "language_info": {
   "codemirror_mode": {
    "name": "ipython",
    "version": 3
   },
   "file_extension": ".py",
   "mimetype": "text/x-python",
   "name": "python",
   "nbconvert_exporter": "python",
   "pygments_lexer": "ipython3",
   "version": "3.11.5"
  }
 },
 "nbformat": 4,
 "nbformat_minor": 5
}
